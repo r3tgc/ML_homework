{
 "cells": [
  {
   "cell_type": "markdown",
   "metadata": {},
   "source": [
    "# MLP Armenian Pubs\n",
    "\n",
    "This dataset contains information about age, gender, occupation, monthly income of respondents, their favorite pubs, frequency of visits, maximum amount that respondent ready to spend in the pub, an important features of the pub, the respondent's lifestyle and the regional stratum the respondent comes from, as well as occasions that the respondent goes to pubs most of the time.\n",
    "<table>\n",
    "    <tr>\n",
    "        <td>Timestamp</td> <td>Date and time of respondent's submission</td> <td>string</td>\n",
    "    </tr>\n",
    "    <tr>\n",
    "        <td>Age</td> <td>Respondent's age</td> <td>numeric</td>\n",
    "    </tr>\n",
    "    <tr>\n",
    "        <td>Gender</td> <td>Respondent's gender</td> <td>string</td>\n",
    "    </tr>\n",
    "    <tr>\n",
    "        <td>Income</td> <td>Respondent's approximate Monthly Income (in Armenian Dram)</td> <td>numeric</td>\n",
    "    </tr>\n",
    "    <tr>\n",
    "        <td>Occupation</td> <td>Respondent's Occupation</td> <td>string</td>\n",
    "    </tr>\n",
    "    <tr>\n",
    "        <td>Fav_Pub</td> <td>Respondent's Favorite Pub</td> <td>string</td>\n",
    "    </tr>\n",
    "    <tr>\n",
    "        <td>WTS</td> <td>Respondent's maximum willingness to spend at the pub</td> <td>numeric</td>\n",
    "    </tr>\n",
    "    <tr>\n",
    "        <td>Freq</td> <td>How often the respondnet visit pubs</td> <td>string</td>\n",
    "    </tr>\n",
    "    <tr>\n",
    "        <td>Prim_Imp</td> <td>Feature of primary importantance for the respondent?</td> <td>string</td>\n",
    "    </tr>\n",
    "    <tr>\n",
    "        <td>Sec_Imp</td> <td>Feature of secondary importantance for the respondent</td> <td>string</td>\n",
    "    </tr>\n",
    "    <tr>\n",
    "        <td>Stratum</td> <td>The regional stratum the respondent comes from</td> <td>string</td>\n",
    "    </tr>\n",
    "    <tr>\n",
    "        <td>Lifestyle</td> <td>Respondent's lifestyle</td> <td>string</td>\n",
    "    </tr>\n",
    "    <tr>\n",
    "        <td>Occasions</td> <td>Occasions that the respondent goes to pubs most of the time</td> <td>string</td>\n",
    "    </tr>\n",
    "</table>\n",
    "\n",
    "We will to predict a gender of respondents."
   ]
  },
  {
   "cell_type": "code",
   "execution_count": 21,
   "metadata": {},
   "outputs": [],
   "source": [
    "import numpy\n",
    "import pandas as pd\n",
    "import matplotlib.pyplot as plt\n",
    "import warnings\n",
    "warnings.filterwarnings('ignore')\n",
    "\n",
    "filename = './armenian_pubs.csv'\n",
    "dataset = pd.read_csv(filename, sep = ',', engine = 'python')\n",
    "dataset.columns = [u'time', u'age', u'gender', u'income', u'occupation', u'fav_pub',\n",
    "                   u'wts', u'freq', u'1imp', u'2imp', u'stratum', u'life', u'occasions']\n"
   ]
  },
  {
   "cell_type": "markdown",
   "metadata": {},
   "source": [
    "Preproccessing data.\n",
    "\n",
    "Drop unused columns."
   ]
  },
  {
   "cell_type": "code",
   "execution_count": 22,
   "metadata": {},
   "outputs": [],
   "source": [
    "dataset = dataset.drop(['time'],axis = 1)\n",
    "dataset = dataset.drop(['life'], axis = 1)\n",
    "dataset = dataset.drop(['fav_pub'], axis = 1)\n",
    "dataset = dataset.drop(['2imp'], axis = 1)\n",
    "dataset = dataset.drop(['occasions'],axis = 1)"
   ]
  },
  {
   "cell_type": "markdown",
   "metadata": {},
   "source": [
    "Fill NaN values with mean by column."
   ]
  },
  {
   "cell_type": "code",
   "execution_count": 23,
   "metadata": {},
   "outputs": [],
   "source": [
    "mean_income = dataset['income'].mean(axis = 0) \n",
    "dataset['income'] = map(lambda x: mean_income if numpy.isnan(dataset['income'][x]) else dataset['income'][x],range(len(dataset['income'])))\n",
    "mean_wts = dataset['wts'].mean(axis = 0) \n",
    "dataset['wts'] = map(lambda x: mean_income if numpy.isnan(dataset['wts'][x]) else dataset['wts'][x],range(len(dataset['wts'])))\n"
   ]
  },
  {
   "cell_type": "markdown",
   "metadata": {},
   "source": [
    "Now we need to transform non-numeric columns by replacing unique string with number."
   ]
  },
  {
   "cell_type": "code",
   "execution_count": 24,
   "metadata": {},
   "outputs": [],
   "source": [
    "\n",
    "dataset['freq'] = map(lambda x: 3 if x=='Several times a week' else x,dataset['freq'])\n",
    "dataset['freq'] = map(lambda x: 2 if x=='Several times in a month' else x,dataset['freq'])\n",
    "dataset['freq'] = map(lambda x: 1 if x=='rarely (once two week/or a month)' else x,dataset['freq'])\n",
    "dataset['stratum'] = map(lambda x: 1 if x=='Capital' else x,dataset['stratum'])\n",
    "dataset['stratum'] = map(lambda x: 2 if x=='Urban' else x,dataset['stratum'])\n",
    "dataset['stratum'] = map(lambda x: 3 if x=='Rural' else x,dataset['stratum'])\n",
    "dataset['1imp'] = map(lambda x: 1 if x=='Environment' else x,dataset['1imp'])\n",
    "dataset['1imp'] = map(lambda x: 2 if x=='Music' else x,dataset['1imp'])\n",
    "dataset['1imp'] = map(lambda x: 3 if x=='Pricing' else x,dataset['1imp'])\n",
    "dataset['1imp'] = map(lambda x: 4 if x=='Menu' else x,dataset['1imp'])\n",
    "i=-1\n",
    "for x in dataset['occupation'][:]:\n",
    "    i += 1\n",
    "    if x == 'Student':\n",
    "        dataset['occupation'][i]=1\n",
    "    elif x == 'Student + working':\n",
    "        dataset['occupation'][i]=2\n",
    "    elif x == 'Working' or x == 'Working ':\n",
    "        dataset['occupation'][i]=3\n",
    "    elif x == 'Entrepreneur / Software Engineer':\n",
    "        dataset['occupation'][i]=4\n",
    "    else:\n",
    "        dataset['occupation'][i]=5\n",
    "\n",
    "\n",
    "dataset['gender'] = map(lambda x: 1 if x=='Male' else 0,dataset['gender'])\n",
    "\n"
   ]
  },
  {
   "cell_type": "markdown",
   "metadata": {},
   "source": [
    "Drop the outlier points:"
   ]
  },
  {
   "cell_type": "code",
   "execution_count": 25,
   "metadata": {},
   "outputs": [],
   "source": [
    "dataset['income'] = (dataset['income']-dataset['income'].mean(axis = 0))/dataset['income'].std(axis = 0)\n",
    "dataset['wts'] = (dataset['wts']-dataset['wts'].mean(axis = 0))/dataset['wts'].std(axis = 0)\n",
    "dataset=dataset.drop(dataset[dataset['income']>3*dataset['income'].std(axis = 0)].index)\n",
    "dataset=dataset.drop(dataset[dataset['wts']>3*dataset['wts'].std(axis = 0)].index)"
   ]
  },
  {
   "cell_type": "markdown",
   "metadata": {},
   "source": [
    "# The MLP\n",
    "\n",
    "We want to predict a gender of respondents"
   ]
  },
  {
   "cell_type": "code",
   "execution_count": 26,
   "metadata": {},
   "outputs": [],
   "source": [
    "x = dataset.drop('gender', axis = 1)\n",
    "for xi in x:\n",
    "    x[xi] = x[xi]/(abs(max(x[xi]))) #normalizing\n",
    "y = dataset['gender']"
   ]
  },
  {
   "cell_type": "markdown",
   "metadata": {},
   "source": [
    "The set of data have a small length. We will add to the set a random points from dataset."
   ]
  },
  {
   "cell_type": "code",
   "execution_count": 27,
   "metadata": {},
   "outputs": [
    {
     "data": {
      "text/plain": [
       "500"
      ]
     },
     "execution_count": 27,
     "metadata": {},
     "output_type": "execute_result"
    }
   ],
   "source": [
    "bootstrap_index = lambda n: numpy.floor(numpy.random.rand()*n).astype(int)\n",
    "N = 500\n",
    "for i in xrange(N-len(y)):\n",
    "    i = bootstrap_index(171)\n",
    "    x=x.append(x[i:i+1])\n",
    "    y=y.append(y[i:i+1])\n",
    "len(x)"
   ]
  },
  {
   "cell_type": "markdown",
   "metadata": {},
   "source": [
    "We need to split our set of data to 'train' and 'test' subsets (by 75% and 25% from common data respectively). We will fit classifier on 'train' subset and check it on 'test' subset."
   ]
  },
  {
   "cell_type": "code",
   "execution_count": 28,
   "metadata": {},
   "outputs": [],
   "source": [
    "from sklearn.model_selection import train_test_split\n",
    "x_train, x_test, y_train, y_test = train_test_split(x, y, test_size = 0.25, random_state = 30)\n",
    "N_test, _ = x_test.shape"
   ]
  },
  {
   "cell_type": "markdown",
   "metadata": {},
   "source": [
    "Create the MLP Classifier and fit it on 'train' subset. We use one hidden layer with 100 neurons and logistic activation function"
   ]
  },
  {
   "cell_type": "code",
   "execution_count": 29,
   "metadata": {},
   "outputs": [
    {
     "data": {
      "text/plain": [
       "MLPClassifier(activation='logistic', alpha=0.0001, batch_size='auto',\n",
       "       beta_1=0.9, beta_2=0.999, early_stopping=False, epsilon=1e-08,\n",
       "       hidden_layer_sizes=(100,), learning_rate='constant',\n",
       "       learning_rate_init=0.001, max_iter=200, momentum=0.9,\n",
       "       nesterovs_momentum=True, power_t=0.5, random_state=42, shuffle=True,\n",
       "       solver='lbfgs', tol=0.0001, validation_fraction=0.1, verbose=False,\n",
       "       warm_start=False)"
      ]
     },
     "execution_count": 29,
     "metadata": {},
     "output_type": "execute_result"
    }
   ],
   "source": [
    "from sklearn.neural_network import MLPClassifier\n",
    "\n",
    "mlp_model = MLPClassifier(hidden_layer_sizes = (100,), solver = 'lbfgs', \n",
    "                          activation = 'logistic', random_state = 42)\n",
    "mlp_model.fit(x_train, y_train)\n",
    "\n"
   ]
  },
  {
   "cell_type": "markdown",
   "metadata": {},
   "source": [
    "Calculate an errors between predict and real values for both 'train' and 'test' subsets."
   ]
  },
  {
   "cell_type": "code",
   "execution_count": 30,
   "metadata": {},
   "outputs": [
    {
     "name": "stdout",
     "output_type": "stream",
     "text": [
      "(0.16800000000000001, 0.20799999999999999)\n"
     ]
    }
   ],
   "source": [
    "y_train_pred = mlp_model.predict(x_train)\n",
    "y_test_pred = mlp_model.predict(x_test)\n",
    "print(numpy.mean(y_train != y_train_pred), numpy.mean(y_test != y_test_pred))\n"
   ]
  },
  {
   "cell_type": "markdown",
   "metadata": {},
   "source": [
    "Fit a optimal parameters for classifier by minimizing errors."
   ]
  },
  {
   "cell_type": "code",
   "execution_count": 31,
   "metadata": {},
   "outputs": [],
   "source": [
    "alpha_arr = numpy.logspace(-4, 1, 21) #  regularization parameter\n",
    "cn_arr = xrange(10,100,10) #  count of neurons in hidden layers\n",
    "test_err = []\n",
    "train_err = []\n",
    "for alpha in alpha_arr:\n",
    "    train_err_t = []\n",
    "    test_err_t = []\n",
    "    for cn in cn_arr:\n",
    "        mlp_model = MLPClassifier(alpha = alpha, hidden_layer_sizes = (cn+10,), \n",
    "                              solver = 'lbfgs', activation = 'logistic', random_state = 42)\n",
    "        mlp_model.fit(x_train, y_train)\n",
    "\n",
    "        y_train_pred = mlp_model.predict(x_train)\n",
    "        y_test_pred = mlp_model.predict(x_test)\n",
    "        train_err_t.append(numpy.mean(y_train != y_train_pred))\n",
    "        test_err_t.append(numpy.mean(y_test != y_test_pred))    \n",
    "    train_err.append(train_err_t)\n",
    "    test_err.append(test_err_t)"
   ]
  },
  {
   "cell_type": "markdown",
   "metadata": {},
   "source": [
    "Finding parameters values with minimal error"
   ]
  },
  {
   "cell_type": "code",
   "execution_count": 32,
   "metadata": {},
   "outputs": [
    {
     "name": "stdout",
     "output_type": "stream",
     "text": [
      "A minimal error 0.128\n",
      "with regularization parameter is  0.0001  and count of neurons is  20\n"
     ]
    }
   ],
   "source": [
    "min_test_err = 100500\n",
    "min_test_row = []\n",
    "for test_row in test_err:\n",
    "    if min_test_err > min(min_test_err, min(test_row)):\n",
    "        min_test_err = min(min_test_err, min(test_row))\n",
    "        min_test_row = test_row\n",
    "alpha_min = test_err.index(min_test_row)\n",
    "cn_min = test_err[alpha_min].index(min_test_err)\n",
    "cn_opt = cn_arr[cn_min]\n",
    "alpha_opt = alpha_arr[alpha_min]\n",
    "print 'A minimal error',test_err[alpha_min][cn_min]\n",
    "print 'with regularization parameter is ', alpha_opt, ' and count of neurons is ',cn_opt"
   ]
  },
  {
   "cell_type": "markdown",
   "metadata": {},
   "source": [
    "Plot a relations between alpha and error, and between error and count of neurons: "
   ]
  },
  {
   "cell_type": "code",
   "execution_count": 33,
   "metadata": {},
   "outputs": [
    {
     "data": {
      "image/png": "[encoded data removed]",
      "text/plain": [
       "<matplotlib.figure.Figure at 0x7fc2096ee510>"
      ]
     },
     "metadata": {},
     "output_type": "display_data"
    }
   ],
   "source": [
    "train_err_v = (zip(*train_err))[alpha_min]\n",
    "test_err_v = (zip(*test_err))[alpha_min]\n",
    "plt.semilogx(alpha_arr, train_err_v, 'b-o', label = 'train')\n",
    "plt.semilogx(alpha_arr, test_err_v, 'r-o', label = 'test')\n",
    "plt.xlim([numpy.max(alpha_arr), numpy.min(alpha_arr)])\n",
    "plt.title('Error vs. alpha')\n",
    "plt.xlabel('alpha')\n",
    "plt.ylabel('error')\n",
    "plt.legend()\n",
    "plt.show()"
   ]
  },
  {
   "cell_type": "code",
   "execution_count": 34,
   "metadata": {},
   "outputs": [
    {
     "data": {
      "image/png": "[encoded data removed]",
      "text/plain": [
       "<matplotlib.figure.Figure at 0x7fc20975ec10>"
      ]
     },
     "metadata": {},
     "output_type": "display_data"
    }
   ],
   "source": [
    "plt.plot(cn_arr, train_err[alpha_min], 'b-o', label = 'train')\n",
    "plt.plot(cn_arr, test_err[alpha_min], 'r-o', label = 'test')\n",
    "plt.xlim([numpy.min(cn_arr), numpy.max(cn_arr)])\n",
    "plt.title('Error vs. count of neurons')\n",
    "plt.xlabel('count of neurons')\n",
    "plt.ylabel('error')\n",
    "plt.legend()\n",
    "plt.show()"
   ]
  },
  {
   "cell_type": "markdown",
   "metadata": {},
   "source": [
    "Repeat fitting a classifier with optimal parameters"
   ]
  },
  {
   "cell_type": "code",
   "execution_count": 35,
   "metadata": {},
   "outputs": [
    {
     "name": "stdout",
     "output_type": "stream",
     "text": [
      "0.12\n",
      "0.192\n"
     ]
    }
   ],
   "source": [
    "mlp_model = MLPClassifier(alpha = alpha_opt, hidden_layer_sizes = (cn_opt,),\n",
    "                          solver = 'lbfgs', activation = 'logistic', random_state = 42)\n",
    "mlp_model.fit(x_train, y_train)\n",
    "\n",
    "y_train_pred = mlp_model.predict(x_train)\n",
    "y_test_pred = mlp_model.predict(x_test)\n",
    "print(numpy.mean(y_train != y_train_pred))\n",
    "print(numpy.mean(y_test != y_test_pred))\n",
    "\n"
   ]
  },
  {
   "cell_type": "markdown",
   "metadata": {},
   "source": [
    "Confusion matrix:"
   ]
  },
  {
   "cell_type": "code",
   "execution_count": 36,
   "metadata": {},
   "outputs": [
    {
     "name": "stdout",
     "output_type": "stream",
     "text": [
      "[[65 14]\n",
      " [10 36]]\n"
     ]
    }
   ],
   "source": [
    "from sklearn.metrics import confusion_matrix\n",
    "print(confusion_matrix(y_test_pred, y_test))\n",
    "\n"
   ]
  },
  {
   "cell_type": "markdown",
   "metadata": {},
   "source": [
    "Other metrics of quality:"
   ]
  },
  {
   "cell_type": "code",
   "execution_count": 37,
   "metadata": {},
   "outputs": [
    {
     "name": "stdout",
     "output_type": "stream",
     "text": [
      "             precision    recall  f1-score   support\n",
      "\n",
      "          0       0.82      0.87      0.84        75\n",
      "          1       0.78      0.72      0.75        50\n",
      "\n",
      "avg / total       0.81      0.81      0.81       125\n",
      "\n"
     ]
    }
   ],
   "source": [
    "from sklearn.metrics import classification_report\n",
    "print(classification_report(y_test, y_test_pred))"
   ]
  },
  {
   "cell_type": "markdown",
   "metadata": {},
   "source": [
    "The obtained results of MLP a little better than kNN method due to bootstrapping. The number of neurons in hidden layer is better been taken approximately twice as much as the number of features of data. "
   ]
  },
  {
   "cell_type": "code",
   "execution_count": null,
   "metadata": {},
   "outputs": [],
   "source": []
  }
 ],
 "metadata": {
  "kernelspec": {
   "display_name": "Python 2",
   "language": "python",
   "name": "python2"
  },
  "language_info": {
   "codemirror_mode": {
    "name": "ipython",
    "version": 2
   },
   "file_extension": ".py",
   "mimetype": "text/x-python",
   "name": "python",
   "nbconvert_exporter": "python",
   "pygments_lexer": "ipython2",
   "version": "2.7.12"
  }
 },
 "nbformat": 4,
 "nbformat_minor": 2
}
