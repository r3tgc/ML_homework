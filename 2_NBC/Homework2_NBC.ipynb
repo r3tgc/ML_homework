{
 "cells": [
  {
   "cell_type": "markdown",
   "metadata": {},
   "source": [
    "# Задача 1\n",
    "\n",
    "Дана обучающая выборка\n",
    "\n",
    "<table>\n",
    "    <tr><td>$x$</td><td>1</td><td>1</td><td>0</td><td>0</td><td>-1</td></tr>\n",
    "    <tr><td>$y$</td><td>4</td><td>4</td><td>0</td><td>2</td><td>6</td></tr>\n",
    "</table>\n",
    "\n",
    "1) изобразить точки;\n",
    "\n",
    "2) методом наименьших квадратов построить модель вида $f(x) = \\beta_0+\\beta_1x+\\beta_2x^2$;построить график этой функции;\n",
    "\n",
    "3) построить модель того же вида методом ридж-регрессии с параметром регуляризации $\\lambda = 1$; построить график этой функции.\n",
    "\n",
    "Замечание: при ручных вычислениях по методу наименьших квадратов рекомендуется составить систему $X^⊤X\\beta = X^⊤y$ и решить ее. Регуляризованная система: $(X^⊤X+\\lambda I)\\beta = X^⊤y$, где $I$ - единичная матрица."
   ]
  },
  {
   "cell_type": "code",
   "execution_count": 1,
   "metadata": {},
   "outputs": [],
   "source": [
    "import numpy as np\n",
    "import matplotlib.pyplot as plt\n",
    "%matplotlib inline"
   ]
  },
  {
   "cell_type": "markdown",
   "metadata": {},
   "source": [
    "Обучающая выборка:"
   ]
  },
  {
   "cell_type": "code",
   "execution_count": 2,
   "metadata": {},
   "outputs": [],
   "source": [
    "x_train = [1, 1, 0, 0, -1]\n",
    "y_train = [4, 4, 0 ,2,  6]"
   ]
  },
  {
   "cell_type": "markdown",
   "metadata": {},
   "source": [
    "1) Изображение точек на плоскости $xy$"
   ]
  },
  {
   "cell_type": "code",
   "execution_count": 3,
   "metadata": {},
   "outputs": [
    {
     "data": {
      "image/png": "[encoded data removed]",
      "text/plain": [
       "<matplotlib.figure.Figure at 0x7f1a3eea4050>"
      ]
     },
     "metadata": {},
     "output_type": "display_data"
    }
   ],
   "source": [
    "plt.plot(x_train,y_train,color='blue')\n",
    "plt.plot(x_train,y_train,'*',color='red')\n",
    "plt.xlabel('X axis')\n",
    "plt.ylabel('Y axis')\n",
    "plt.grid()"
   ]
  },
  {
   "cell_type": "markdown",
   "metadata": {},
   "source": [
    "2) Построим модель вида $f(x) = \\beta_0+\\beta_1x+\\beta_2x^2$ методом МНК."
   ]
  },
  {
   "cell_type": "code",
   "execution_count": 4,
   "metadata": {},
   "outputs": [],
   "source": [
    "f = lambda x: [1, x, x*x]\n",
    "X = np.array(map(f,x_train))\n",
    "y = np.array(y_train).transpose()#column\n"
   ]
  },
  {
   "cell_type": "markdown",
   "metadata": {},
   "source": [
    "Получили систему линейных уравнений $X\\beta = y$. Чтобы найти $\\beta$ умножим обе части на $X^T$ слева."
   ]
  },
  {
   "cell_type": "code",
   "execution_count": 5,
   "metadata": {},
   "outputs": [
    {
     "data": {
      "text/plain": [
       "array([[ 1,  1,  1,  1,  1],\n",
       "       [ 1,  1,  0,  0, -1],\n",
       "       [ 1,  1,  0,  0,  1]])"
      ]
     },
     "execution_count": 5,
     "metadata": {},
     "output_type": "execute_result"
    }
   ],
   "source": [
    "Xtr = X.transpose()\n",
    "Xtr"
   ]
  },
  {
   "cell_type": "code",
   "execution_count": 6,
   "metadata": {},
   "outputs": [],
   "source": [
    "X = np.dot(Xtr,X)\n",
    "y = np.dot(Xtr,y)"
   ]
  },
  {
   "cell_type": "markdown",
   "metadata": {},
   "source": [
    "Решим полученную систему:"
   ]
  },
  {
   "cell_type": "code",
   "execution_count": 7,
   "metadata": {},
   "outputs": [
    {
     "data": {
      "text/plain": [
       "array([ 1., -1.,  4.])"
      ]
     },
     "execution_count": 7,
     "metadata": {},
     "output_type": "execute_result"
    }
   ],
   "source": [
    "beta = np.linalg.solve(X,y)\n",
    "beta"
   ]
  },
  {
   "cell_type": "code",
   "execution_count": 8,
   "metadata": {},
   "outputs": [
    {
     "data": {
      "text/plain": [
       "[[4.0], [4.0], [1.0], [1.0], [6.0]]"
      ]
     },
     "execution_count": 8,
     "metadata": {},
     "output_type": "execute_result"
    }
   ],
   "source": [
    "f = lambda x: [beta[0]+beta[1]*x+beta[2]*x*x]\n",
    "y = map(f,x_train) \n",
    "y"
   ]
  },
  {
   "cell_type": "markdown",
   "metadata": {},
   "source": [
    "Построим  график полученной модели:"
   ]
  },
  {
   "cell_type": "code",
   "execution_count": 9,
   "metadata": {},
   "outputs": [],
   "source": [
    "x_points1 = np.linspace(-1,1,30)\n",
    "y_points1 = map(f,x_points1)"
   ]
  },
  {
   "cell_type": "code",
   "execution_count": 10,
   "metadata": {},
   "outputs": [
    {
     "data": {
      "image/png": "[encoded data removed]",
      "text/plain": [
       "<matplotlib.figure.Figure at 0x7f1a3f167ed0>"
      ]
     },
     "metadata": {},
     "output_type": "display_data"
    }
   ],
   "source": [
    "plt.plot(x_train,y_train,'*',color='red')\n",
    "plt.plot(x_points1,y_points1,color='blue')\n",
    "plt.grid()"
   ]
  },
  {
   "cell_type": "markdown",
   "metadata": {},
   "source": [
    "3) Построим модель $f(x) = \\beta_0+\\beta_1x+\\beta_2x^2$ методом ридж-регрессии"
   ]
  },
  {
   "cell_type": "code",
   "execution_count": 11,
   "metadata": {},
   "outputs": [],
   "source": [
    "x_train = [1, 1, 0, 0, -1]\n",
    "y_train = [4, 4, 0 ,2,  6]\n",
    "l = 1\n"
   ]
  },
  {
   "cell_type": "code",
   "execution_count": 12,
   "metadata": {},
   "outputs": [],
   "source": [
    "f = lambda x: [x**0, x**1, x**2]\n",
    "X = np.array(map(f,x_train))\n",
    "y = np.array(y_train).transpose()#column\n",
    "  "
   ]
  },
  {
   "cell_type": "markdown",
   "metadata": {},
   "source": [
    "Получили систему линейных уравнений $X\\beta = y$. Умножим обе части слева на $X^T$: "
   ]
  },
  {
   "cell_type": "code",
   "execution_count": 13,
   "metadata": {},
   "outputs": [],
   "source": [
    "Xtr = X.transpose()\n",
    "X = np.dot(Xtr,X)\n",
    "y = np.dot(Xtr,y)\n"
   ]
  },
  {
   "cell_type": "markdown",
   "metadata": {},
   "source": [
    "Регуляризуем систему с параметром $\\lambda = 1$:"
   ]
  },
  {
   "cell_type": "code",
   "execution_count": 14,
   "metadata": {},
   "outputs": [
    {
     "data": {
      "text/plain": [
       "array([[6, 1, 3],\n",
       "       [1, 4, 1],\n",
       "       [3, 1, 4]])"
      ]
     },
     "execution_count": 14,
     "metadata": {},
     "output_type": "execute_result"
    }
   ],
   "source": [
    "for i in xrange(len(X[:])):\n",
    "    X[i,i] = X[i,i]+l\n",
    "X  "
   ]
  },
  {
   "cell_type": "markdown",
   "metadata": {},
   "source": [
    "Решим регуляризованную систему:"
   ]
  },
  {
   "cell_type": "code",
   "execution_count": 15,
   "metadata": {},
   "outputs": [
    {
     "data": {
      "text/plain": [
       "array([ 1.5, -0.5,  2.5])"
      ]
     },
     "execution_count": 15,
     "metadata": {},
     "output_type": "execute_result"
    }
   ],
   "source": [
    "beta = np.linalg.solve(X,y)\n",
    "beta"
   ]
  },
  {
   "cell_type": "markdown",
   "metadata": {},
   "source": [
    "Построим график полученной модели."
   ]
  },
  {
   "cell_type": "code",
   "execution_count": 16,
   "metadata": {},
   "outputs": [
    {
     "data": {
      "image/png": "[encoded data removed]",
      "text/plain": [
       "<matplotlib.figure.Figure at 0x7f1a3ccb92d0>"
      ]
     },
     "metadata": {},
     "output_type": "display_data"
    }
   ],
   "source": [
    "f = lambda x: [beta[0]+beta[1]*x+beta[2]*x*x]\n",
    "x_points2 = np.linspace(-1,1,30)\n",
    "y_points2 = map(f,x_points2)\n",
    "import matplotlib.patches as mpatches\n",
    "plt.plot(x_train,y_train,'*',color='red')\n",
    "plt.plot(x_points1,y_points1,color='blue')\n",
    "plt.plot(x_points2,y_points2,color='green')\n",
    "plt.grid()\n",
    "patch_blue = mpatches.Patch(color='blue', label='OLS')\n",
    "patch_green = mpatches.Patch(color='green', label='Ridge regression')\n",
    "plt.legend(handles=[patch_blue,patch_green])\n",
    "plt.show()"
   ]
  },
  {
   "cell_type": "markdown",
   "metadata": {},
   "source": [
    "# Задача 14\n",
    "Дана обучающая выборка \n",
    "\n",
    "<table>\n",
    "    <tr>\n",
    "        <td>$x_1$</td>\n",
    "        <td>0</td>\n",
    "        <td>0</td>\n",
    "        <td>1</td>\n",
    "        <td>1</td>\n",
    "        <td>0</td>\n",
    "        <td>0</td>\n",
    "        <td>1</td>\n",
    "        <td>1</td>\n",
    "        <td>1</td>\n",
    "        <td>0</td>\n",
    "    </tr>\n",
    "    <tr>\n",
    "        <td>$x_2$</td>\n",
    "        <td>0</td>\n",
    "        <td>1</td>\n",
    "        <td>0</td>\n",
    "        <td>1</td>\n",
    "        <td>1</td>\n",
    "        <td>1</td>\n",
    "        <td>1</td>\n",
    "        <td>1</td>\n",
    "        <td>1</td>\n",
    "        <td>1</td>\n",
    "    </tr>\n",
    "    <tr>\n",
    "        <td>$y$</td>\n",
    "        <td>0</td>\n",
    "        <td>0</td>\n",
    "        <td>0</td>\n",
    "        <td>0</td>\n",
    "        <td>0</td>\n",
    "        <td>1</td>\n",
    "        <td>1</td>\n",
    "        <td>1</td>\n",
    "        <td>1</td>\n",
    "        <td>1</td>\n",
    "    </tr>\n",
    "</table>\n",
    "\n",
    "С помощью наивного байесова классификатора оценить вероятности \n",
    "$Pr(Y = 0 | X_1 = 1, X_2 = 1)$; $Pr(Y = 1 | X_1 = 1, X_2 = 1)$"
   ]
  },
  {
   "cell_type": "code",
   "execution_count": 17,
   "metadata": {},
   "outputs": [],
   "source": [
    "x1 = np.array([0, 0, 1, 1, 0, 0, 1, 1, 1, 0])\n",
    "x2 = np.array([0, 1, 0, 1, 1, 1, 1, 1, 1, 1])\n",
    "y  = np.array([0, 0, 0, 0, 0, 1, 1, 1, 1, 1])\n"
   ]
  },
  {
   "cell_type": "markdown",
   "metadata": {},
   "source": [
    "Найдем априорные вероятности $Pr(y=0)$ и $Pr(y=1)$:"
   ]
  },
  {
   "cell_type": "code",
   "execution_count": 18,
   "metadata": {},
   "outputs": [
    {
     "data": {
      "text/plain": [
       "(0.5, 0.5)"
      ]
     },
     "execution_count": 18,
     "metadata": {},
     "output_type": "execute_result"
    }
   ],
   "source": [
    "Py_eq_0 = float(len(np.where(y == 0)[0]))/len(y)\n",
    "Py_eq_1 = float(len(np.where(y == 1)[0]))/len(y)\n",
    "Py_eq_0,Py_eq_1"
   ]
  },
  {
   "cell_type": "markdown",
   "metadata": {},
   "source": [
    "Найдем маргинальные апостериорные вероятности:\n",
    "$Pr(x_1 = 1| y = 0)$,$Pr(x_2 = 1| y = 0)$"
   ]
  },
  {
   "cell_type": "code",
   "execution_count": 19,
   "metadata": {},
   "outputs": [
    {
     "data": {
      "text/plain": [
       "(0.6, 0.4)"
      ]
     },
     "execution_count": 19,
     "metadata": {},
     "output_type": "execute_result"
    }
   ],
   "source": [
    "Px1_eq1_if_y_eq0 = float(len(np.where((x1 == 1)&(y == 0))[0]))/len(np.where(y == 0)[0])\n",
    "Px2_eq1_if_y_eq0 = float(len(np.where((x2 == 1)&(y == 0))[0]))/len(np.where(y == 0)[0])\n",
    "Px2_eq1_if_y_eq0,Px1_eq1_if_y_eq0\n"
   ]
  },
  {
   "cell_type": "markdown",
   "metadata": {},
   "source": [
    "Найдем $Pr(x_1 = 1)$ и $Pr(x_2 = 1)$"
   ]
  },
  {
   "cell_type": "code",
   "execution_count": 20,
   "metadata": {},
   "outputs": [
    {
     "data": {
      "text/plain": [
       "(0.12, 0.12)"
      ]
     },
     "execution_count": 20,
     "metadata": {},
     "output_type": "execute_result"
    }
   ],
   "source": [
    "Px1_eq1 = Px1_eq1_if_y_eq0*Px2_eq1_if_y_eq0*Py_eq_0\n",
    "Px2_eq1 = Px1_eq1_if_y_eq0*Px2_eq1_if_y_eq0*Py_eq_1\n",
    "Px1_eq1,Px2_eq1"
   ]
  },
  {
   "cell_type": "markdown",
   "metadata": {},
   "source": [
    "Найдем апостериорные вероятности по формуле Байеса:\n",
    "\n",
    "**!! Знаменатели посчитала неправильно !! **"
   ]
  },
  {
   "cell_type": "code",
   "execution_count": 21,
   "metadata": {},
   "outputs": [
    {
     "data": {
      "text/plain": [
       "(0.5, 0.5)"
      ]
     },
     "execution_count": 21,
     "metadata": {},
     "output_type": "execute_result"
    }
   ],
   "source": [
    "Py_eq0_if_x1_eq1_x2_eq1 = Px1_eq1_if_y_eq0*Px2_eq1_if_y_eq0*Py_eq_0/(Px1_eq1+Px2_eq1)\n",
    "Py_eq1_if_x1_eq1_x2_eq1 = Px1_eq1_if_y_eq0*Px2_eq1_if_y_eq0*Py_eq_1/(Px1_eq1+Px2_eq1)\n",
    "Py_eq0_if_x1_eq1_x2_eq1,Py_eq1_if_x1_eq1_x2_eq1"
   ]
  },
  {
   "cell_type": "markdown",
   "metadata": {},
   "source": [
    "Ответ:$Pr(y = 0|x_1 = 1,x_2 = 1) = 0.5$ $Pr(y = 1|x_1 = 1,x_2 = 1) = 0.5$ "
   ]
  },
  {
   "cell_type": "markdown",
   "metadata": {},
   "source": [
    "# Задача 29\n",
    "Может ли использование коррелированных переменных улучшить качество предсказания? Рассмотрим задачу классификации с двумя классами. Пусть пространство признаков двумерное. Объекты каждого класса имеют нормальное распределение с математическим ожиданием (-1,-1) и (1,1) соответственно и единичной матрицей ковариации каждый. Априорные вероятности классов равны $1/2$.\n",
    "\n",
    "1) Вычислить коэффициент корреляции для переменных $x_1$, $x_2$.\n",
    "\n",
    "2) Найти байесов классификатор и вычислить байесову ошибку для усеченной задачи,рассматривая только одну переменную $x_1$.\n",
    "\n",
    "3) Найти байесов классификатор и вычислить байесову ошибку для исходной задачи.\n",
    "\n",
    "4) Приводит ли использование второй переменной к уменьшению ошибки?"
   ]
  },
  {
   "cell_type": "code",
   "execution_count": 22,
   "metadata": {},
   "outputs": [],
   "source": [
    "from sklearn.naive_bayes import GaussianNB"
   ]
  },
  {
   "cell_type": "markdown",
   "metadata": {},
   "source": [
    "Сгенерируем выборки для первого и второго классов:"
   ]
  },
  {
   "cell_type": "code",
   "execution_count": 23,
   "metadata": {},
   "outputs": [],
   "source": [
    "c1 = np.random.multivariate_normal([-1, -1],[[1,0],[0,1]],300) #y = 0\n",
    "\n",
    "\n"
   ]
  },
  {
   "cell_type": "code",
   "execution_count": 24,
   "metadata": {},
   "outputs": [],
   "source": [
    "c2 = np.random.multivariate_normal([1, 1],[[1,0],[0,1]],300)#y = 1\n",
    "\n"
   ]
  },
  {
   "cell_type": "code",
   "execution_count": 25,
   "metadata": {},
   "outputs": [
    {
     "data": {
      "text/plain": [
       "<matplotlib.text.Text at 0x7f1a33dd3150>"
      ]
     },
     "execution_count": 25,
     "metadata": {},
     "output_type": "execute_result"
    },
    {
     "data": {
      "image/png": "[encoded data removed]",
      "text/plain": [
       "<matplotlib.figure.Figure at 0x7f1a342cd290>"
      ]
     },
     "metadata": {},
     "output_type": "display_data"
    }
   ],
   "source": [
    "plt.scatter(c1[:,0],c1[:,1],color='lightblue')\n",
    "plt.scatter(c2[:,0],c2[:,1],color='pink')\n",
    "plt.xlabel('x1 axis')\n",
    "plt.ylabel('x2 axis')"
   ]
  },
  {
   "cell_type": "markdown",
   "metadata": {},
   "source": [
    "1) Составим $x_1$ и $x_2$ и найдем коэффициент корреляции между ними:"
   ]
  },
  {
   "cell_type": "code",
   "execution_count": 26,
   "metadata": {},
   "outputs": [
    {
     "data": {
      "text/plain": [
       "array([[ 1.        ,  0.53426789],\n",
       "       [ 0.53426789,  1.        ]])"
      ]
     },
     "execution_count": 26,
     "metadata": {},
     "output_type": "execute_result"
    }
   ],
   "source": [
    "x1x2 = np.vstack((c1,c2))\n",
    "x1 = np.array(x1x2[:,0])\n",
    "x2 = np.array(x1x2[:,1])\n",
    "np.corrcoef(x1,x2)"
   ]
  },
  {
   "cell_type": "markdown",
   "metadata": {},
   "source": [
    "Ответ: $r_{x_1x_2} = 0.51731612,$"
   ]
  },
  {
   "cell_type": "markdown",
   "metadata": {},
   "source": [
    "Сгененрируем массив $y$ , $y = 0$, если объект принадлежит первому классу,и $y = 1$,если объект принадлежит второму классу. $Pr(y = 0) = Pr(y = 1) = 1/2$"
   ]
  },
  {
   "cell_type": "code",
   "execution_count": 27,
   "metadata": {},
   "outputs": [],
   "source": [
    "y =np.array([0]*600) \n",
    "y[300:601] = 1\n"
   ]
  },
  {
   "cell_type": "markdown",
   "metadata": {},
   "source": [
    "2) Построим наивный байесовский классификатор, используя только $x_1$"
   ]
  },
  {
   "cell_type": "code",
   "execution_count": 28,
   "metadata": {},
   "outputs": [
    {
     "data": {
      "text/plain": [
       "GaussianNB(priors=None)"
      ]
     },
     "execution_count": 28,
     "metadata": {},
     "output_type": "execute_result"
    }
   ],
   "source": [
    "model = GaussianNB()\n",
    "X=x1.reshape(-1,1)\n",
    "model.fit(X, y)"
   ]
  },
  {
   "cell_type": "markdown",
   "metadata": {},
   "source": [
    "Сгенерируем тестовую выборку:"
   ]
  },
  {
   "cell_type": "code",
   "execution_count": 29,
   "metadata": {},
   "outputs": [],
   "source": [
    "\n",
    "c1 = np.random.multivariate_normal([-1, -1],[[1,0],[0,1]],700)\n",
    "c2 = np.random.multivariate_normal([-1, -1],[[1,0],[0,1]],700)\n",
    "x1x2_test = np.vstack((c1,c2))\n",
    "\n",
    "x_test=x1x2_test[:,0].reshape(-1,1)\n",
    "y_test=np.array([0]*1400)\n",
    "y_test[700:1401] = 1\n"
   ]
  },
  {
   "cell_type": "markdown",
   "metadata": {},
   "source": [
    "Hайдем ошибку:"
   ]
  },
  {
   "cell_type": "code",
   "execution_count": 30,
   "metadata": {},
   "outputs": [
    {
     "name": "stdout",
     "output_type": "stream",
     "text": [
      "[[592 609]\n",
      " [108  91]]\n"
     ]
    }
   ],
   "source": [
    "#from sklearn.metrics import log_loss\n",
    "y_predicted = model.predict(x_test)\n",
    "#log_loss(y_test,y_predicted)\n",
    "from sklearn.metrics import confusion_matrix\n",
    "CF = confusion_matrix(y_predicted, y_test)\n",
    "print(CF)"
   ]
  },
  {
   "cell_type": "code",
   "execution_count": 31,
   "metadata": {},
   "outputs": [
    {
     "name": "stdout",
     "output_type": "stream",
     "text": [
      "(0.15428571428571428, 0.87)\n"
     ]
    }
   ],
   "source": [
    "fpr = float(CF[1, 0])/(CF[0, 0] + CF[1, 0])\n",
    "fnr = float(CF[0, 1])/(CF[0, 1] + CF[1, 1])\n",
    "print(fpr, fnr)"
   ]
  },
  {
   "cell_type": "code",
   "execution_count": 32,
   "metadata": {},
   "outputs": [
    {
     "name": "stdout",
     "output_type": "stream",
     "text": [
      "(0.8457142857142858, 0.13)\n"
     ]
    }
   ],
   "source": [
    "tnr = 1 - fpr\n",
    "tpr = 1 - fnr\n",
    "print(tnr, tpr)"
   ]
  },
  {
   "cell_type": "code",
   "execution_count": 33,
   "metadata": {},
   "outputs": [
    {
     "data": {
      "text/plain": [
       "0.5121428571428571"
      ]
     },
     "execution_count": 33,
     "metadata": {},
     "output_type": "execute_result"
    }
   ],
   "source": [
    "err = (fpr+fnr)/(fpr+fnr+tnr+tpr)\n",
    "err"
   ]
  },
  {
   "cell_type": "markdown",
   "metadata": {},
   "source": [
    "Ответ $R(x) = 0.5$"
   ]
  },
  {
   "cell_type": "markdown",
   "metadata": {},
   "source": [
    "3) Построим наивный байесовский классификатор используя обе переменные $x_1 x_2$"
   ]
  },
  {
   "cell_type": "code",
   "execution_count": 34,
   "metadata": {},
   "outputs": [
    {
     "data": {
      "text/plain": [
       "GaussianNB(priors=None)"
      ]
     },
     "execution_count": 34,
     "metadata": {},
     "output_type": "execute_result"
    }
   ],
   "source": [
    "model = GaussianNB()\n",
    "X=x1x2\n",
    "model.fit(X, y)"
   ]
  },
  {
   "cell_type": "markdown",
   "metadata": {},
   "source": [
    "и найдем ошибку для этого случая:"
   ]
  },
  {
   "cell_type": "code",
   "execution_count": 35,
   "metadata": {},
   "outputs": [
    {
     "name": "stdout",
     "output_type": "stream",
     "text": [
      "[[588 597]\n",
      " [112 103]]\n"
     ]
    }
   ],
   "source": [
    "#x_test = x1x2_test\n",
    "y_predicted = model.predict(x_test)\n",
    "#log_loss(y_test,y_predicted)\n",
    "CF = confusion_matrix(y_predicted, y_test)\n",
    "print(CF)"
   ]
  },
  {
   "cell_type": "code",
   "execution_count": 36,
   "metadata": {},
   "outputs": [
    {
     "name": "stdout",
     "output_type": "stream",
     "text": [
      "(0.16, 0.8528571428571429)\n"
     ]
    }
   ],
   "source": [
    "fpr = float(CF[1, 0])/(CF[0, 0] + CF[1, 0])\n",
    "fnr = float(CF[0, 1])/(CF[0, 1] + CF[1, 1])\n",
    "print(fpr, fnr)"
   ]
  },
  {
   "cell_type": "code",
   "execution_count": 37,
   "metadata": {},
   "outputs": [
    {
     "name": "stdout",
     "output_type": "stream",
     "text": [
      "(0.84, 0.14714285714285713)\n"
     ]
    }
   ],
   "source": [
    "tnr = 1 - fpr\n",
    "tpr = 1 - fnr\n",
    "print(tnr, tpr)"
   ]
  },
  {
   "cell_type": "code",
   "execution_count": 38,
   "metadata": {},
   "outputs": [
    {
     "data": {
      "text/plain": [
       "0.5064285714285715"
      ]
     },
     "execution_count": 38,
     "metadata": {},
     "output_type": "execute_result"
    }
   ],
   "source": [
    "err = (fpr+fnr)/(fpr+fnr+tnr+tpr)\n",
    "err"
   ]
  },
  {
   "cell_type": "markdown",
   "metadata": {},
   "source": [
    "Ответ $R(x) = 0.5$"
   ]
  },
  {
   "cell_type": "markdown",
   "metadata": {},
   "source": [
    "4)Ответ: нет"
   ]
  }
 ],
 "metadata": {
  "kernelspec": {
   "display_name": "Python 2",
   "language": "python",
   "name": "python2"
  },
  "language_info": {
   "codemirror_mode": {
    "name": "ipython",
    "version": 2
   },
   "file_extension": ".py",
   "mimetype": "text/x-python",
   "name": "python",
   "nbconvert_exporter": "python",
   "pygments_lexer": "ipython2",
   "version": "2.7.12"
  }
 },
 "nbformat": 4,
 "nbformat_minor": 2
}
