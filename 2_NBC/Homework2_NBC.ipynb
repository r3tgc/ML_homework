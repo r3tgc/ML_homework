{
 "cells": [
  {
   "cell_type": "markdown",
   "metadata": {},
   "source": [
    "# Задача 1\n",
    "Дана обучающая выборка\n",
    "<table>\n",
    "<tr><td>$x$</td><td>1</td><td>1</td><td>0</td><td>0</td><td>-1</td></tr>\n",
    "<tr><td>$y$</td><td>4</td><td>4</td><td>0</td><td>2</td><td>6</td></tr>\n",
    "</table>\n",
    "1) изобразить точки;\n",
    "\n",
    "2) методом наименьших квадратов построить модель вида $f(x) = \\beta_0+\\beta_1x+\\beta_2x^2$;построить график этой функции;\n",
    "\n",
    "3) построить модель того же вида методом ридж-регрессии с параметром регуляризации $\\lambda = 1$; построить график этой функции.\n",
    "\n",
    "Замечание: при ручных вычислениях по методу наименьших квадратов рекомендуется составить систему $X^⊤X\\beta = X^⊤y$ и решить ее. Регуляризованная система: $(X^⊤X+\\lambda I)\\beta = X^⊤y$, где $I$ - единичная матрица."
   ]
  },
  {
   "cell_type": "code",
   "execution_count": 1,
   "metadata": {},
   "outputs": [],
   "source": [
    "import numpy as np\n",
    "import matplotlib.pyplot as plt\n",
    "%matplotlib inline"
   ]
  },
  {
   "cell_type": "markdown",
   "metadata": {},
   "source": [
    "Обучающая выборка:"
   ]
  },
  {
   "cell_type": "code",
   "execution_count": 2,
   "metadata": {},
   "outputs": [],
   "source": [
    "x_train = [1, 1, 0, 0, -1]\n",
    "y_train = [4, 4, 0 ,2,  6]"
   ]
  },
  {
   "cell_type": "markdown",
   "metadata": {},
   "source": [
    "1) Изображение точек на плоскости $xy$"
   ]
  },
  {
   "cell_type": "code",
   "execution_count": 3,
   "metadata": {},
   "outputs": [
    {
     "data": {
      "image/png": "[encoded data removed]",
      "text/plain": [
       "<matplotlib.figure.Figure at 0x7fd4077850d0>"
      ]
     },
     "metadata": {},
     "output_type": "display_data"
    }
   ],
   "source": [
    "plt.plot(x_train,y_train,color='blue')\n",
    "plt.plot(x_train,y_train,'*',color='red')\n",
    "plt.xlabel('X axis')\n",
    "plt.ylabel('Y axis')\n",
    "plt.grid()"
   ]
  },
  {
   "cell_type": "markdown",
   "metadata": {},
   "source": [
    "2) Построим модель вида $f(x) = \\beta_0+\\beta_1x+\\beta_2x^2$ методом МНК."
   ]
  },
  {
   "cell_type": "code",
   "execution_count": 4,
   "metadata": {},
   "outputs": [],
   "source": [
    "f = lambda x: [1, x, x*x]\n",
    "X = np.array(map(f,x_train))\n",
    "y = np.array(y_train).transpose()#column\n"
   ]
  },
  {
   "cell_type": "markdown",
   "metadata": {},
   "source": [
    "Получили систему линейных уравнений $X\\beta = y$. Чтобы найти $\\beta$ умножим обе части на $X^T$ слева."
   ]
  },
  {
   "cell_type": "code",
   "execution_count": 5,
   "metadata": {},
   "outputs": [
    {
     "data": {
      "text/plain": [
       "array([[ 1,  1,  1,  1,  1],\n",
       "       [ 1,  1,  0,  0, -1],\n",
       "       [ 1,  1,  0,  0,  1]])"
      ]
     },
     "execution_count": 5,
     "metadata": {},
     "output_type": "execute_result"
    }
   ],
   "source": [
    "Xtr = X.transpose()\n",
    "Xtr"
   ]
  },
  {
   "cell_type": "code",
   "execution_count": 6,
   "metadata": {},
   "outputs": [],
   "source": [
    "X = np.dot(Xtr,X)\n",
    "y = np.dot(Xtr,y)"
   ]
  },
  {
   "cell_type": "markdown",
   "metadata": {},
   "source": [
    "Решим полученную систему:"
   ]
  },
  {
   "cell_type": "code",
   "execution_count": 7,
   "metadata": {},
   "outputs": [
    {
     "data": {
      "text/plain": [
       "array([ 1., -1.,  4.])"
      ]
     },
     "execution_count": 7,
     "metadata": {},
     "output_type": "execute_result"
    }
   ],
   "source": [
    "beta = np.linalg.solve(X,y)\n",
    "beta"
   ]
  },
  {
   "cell_type": "code",
   "execution_count": 8,
   "metadata": {},
   "outputs": [
    {
     "data": {
      "text/plain": [
       "[[4.0], [4.0], [1.0], [1.0], [6.0]]"
      ]
     },
     "execution_count": 8,
     "metadata": {},
     "output_type": "execute_result"
    }
   ],
   "source": [
    "f = lambda x: [beta[0]+beta[1]*x+beta[2]*x*x]\n",
    "y = map(f,x_train) \n",
    "y"
   ]
  },
  {
   "cell_type": "markdown",
   "metadata": {},
   "source": [
    "Построим  график полученной модели:"
   ]
  },
  {
   "cell_type": "code",
   "execution_count": 9,
   "metadata": {},
   "outputs": [],
   "source": [
    "x_points1 = np.linspace(-1,1,30)\n",
    "y_points1 = map(f,x_points1)"
   ]
  },
  {
   "cell_type": "code",
   "execution_count": 10,
   "metadata": {},
   "outputs": [
    {
     "data": {
      "image/png": "[encoded data removed]",
      "text/plain": [
       "<matplotlib.figure.Figure at 0x7fd407a4af10>"
      ]
     },
     "metadata": {},
     "output_type": "display_data"
    }
   ],
   "source": [
    "plt.plot(x_train,y_train,'*',color='red')\n",
    "plt.plot(x_points1,y_points1,color='blue')\n",
    "plt.grid()"
   ]
  },
  {
   "cell_type": "markdown",
   "metadata": {},
   "source": [
    "3) Построим модель $f(x) = \\beta_0+\\beta_1x+\\beta_2x^2$ методом ридж-регрессии"
   ]
  },
  {
   "cell_type": "code",
   "execution_count": 11,
   "metadata": {},
   "outputs": [],
   "source": [
    "x_train = [1, 1, 0, 0, -1]\n",
    "y_train = [4, 4, 0 ,2,  6]\n",
    "l = 1\n"
   ]
  },
  {
   "cell_type": "code",
   "execution_count": 12,
   "metadata": {},
   "outputs": [],
   "source": [
    "f = lambda x: [x**0, x**1, x**2]\n",
    "X = np.array(map(f,x_train))\n",
    "y = np.array(y_train).transpose()#column\n",
    "  "
   ]
  },
  {
   "cell_type": "markdown",
   "metadata": {},
   "source": [
    "Получили систему линейных уравнений $X\\beta = y$. Умножим обе части слева на $X^T$: "
   ]
  },
  {
   "cell_type": "code",
   "execution_count": 13,
   "metadata": {},
   "outputs": [],
   "source": [
    "Xtr = X.transpose()\n",
    "X = np.dot(Xtr,X)\n",
    "y = np.dot(Xtr,y)\n"
   ]
  },
  {
   "cell_type": "markdown",
   "metadata": {},
   "source": [
    "Регуляризуем систему с параметром $\\lambda = 1$:"
   ]
  },
  {
   "cell_type": "code",
   "execution_count": 14,
   "metadata": {},
   "outputs": [
    {
     "data": {
      "text/plain": [
       "array([[6, 1, 3],\n",
       "       [1, 4, 1],\n",
       "       [3, 1, 4]])"
      ]
     },
     "execution_count": 14,
     "metadata": {},
     "output_type": "execute_result"
    }
   ],
   "source": [
    "for i in xrange(len(X[:])):\n",
    "    X[i,i] = X[i,i]+l\n",
    "X  "
   ]
  },
  {
   "cell_type": "markdown",
   "metadata": {},
   "source": [
    "Решим регуляризованную систему:"
   ]
  },
  {
   "cell_type": "code",
   "execution_count": 15,
   "metadata": {},
   "outputs": [
    {
     "data": {
      "text/plain": [
       "array([ 1.5, -0.5,  2.5])"
      ]
     },
     "execution_count": 15,
     "metadata": {},
     "output_type": "execute_result"
    }
   ],
   "source": [
    "beta = np.linalg.solve(X,y)\n",
    "beta"
   ]
  },
  {
   "cell_type": "markdown",
   "metadata": {},
   "source": [
    "Построим график полученной модели."
   ]
  },
  {
   "cell_type": "code",
   "execution_count": 16,
   "metadata": {},
   "outputs": [
    {
     "data": {
      "image/png": "[encoded data removed]",
      "text/plain": [
       "<matplotlib.figure.Figure at 0x7fd40560c710>"
      ]
     },
     "metadata": {},
     "output_type": "display_data"
    }
   ],
   "source": [
    "f = lambda x: [beta[0]+beta[1]*x+beta[2]*x*x]\n",
    "x_points2 = np.linspace(-1,1,30)\n",
    "y_points2 = map(f,x_points2)\n",
    "import matplotlib.patches as mpatches\n",
    "plt.plot(x_train,y_train,'*',color='red')\n",
    "plt.plot(x_points1,y_points1,color='blue')\n",
    "plt.plot(x_points2,y_points2,color='green')\n",
    "plt.grid()\n",
    "patch_blue = mpatches.Patch(color='blue', label='OLS')\n",
    "patch_green = mpatches.Patch(color='green', label='Ridge regression')\n",
    "plt.legend(handles=[patch_blue,patch_green])\n",
    "plt.show()"
   ]
  },
  {
   "cell_type": "markdown",
   "metadata": {},
   "source": [
    "# Задача 14\n",
    "Дана обучающая выборка \n",
    "<table>\n",
    "    <tr>\n",
    "        <td>$x_1$</td>\n",
    "        <td>0</td>\n",
    "        <td>0</td>\n",
    "        <td>1</td>\n",
    "        <td>1</td>\n",
    "        <td>0</td>\n",
    "        <td>0</td>\n",
    "        <td>1</td>\n",
    "        <td>1</td>\n",
    "        <td>1</td>\n",
    "        <td>0</td>\n",
    "    </tr>\n",
    "    <tr>\n",
    "        <td>$x_2$</td>\n",
    "        <td>0</td>\n",
    "        <td>1</td>\n",
    "        <td>0</td>\n",
    "        <td>1</td>\n",
    "        <td>1</td>\n",
    "        <td>1</td>\n",
    "        <td>1</td>\n",
    "        <td>1</td>\n",
    "        <td>1</td>\n",
    "        <td>1</td>\n",
    "    </tr>\n",
    "    <tr>\n",
    "        <td>$y$</td>\n",
    "        <td>0</td>\n",
    "        <td>0</td>\n",
    "        <td>0</td>\n",
    "        <td>0</td>\n",
    "        <td>0</td>\n",
    "        <td>1</td>\n",
    "        <td>1</td>\n",
    "        <td>1</td>\n",
    "        <td>1</td>\n",
    "        <td>1</td>\n",
    "    </tr>\n",
    "</table>\n",
    "\n",
    "С помощью наивного байесова классификатора оценить вероятности \n",
    "$Pr(Y = 0 | X_1 = 1, X_2 = 1)$; $Pr(Y = 1 | X_1 = 1, X_2 = 1)$"
   ]
  },
  {
   "cell_type": "code",
   "execution_count": 17,
   "metadata": {},
   "outputs": [],
   "source": [
    "x1 = np.array([0, 0, 1, 1, 0, 0, 1, 1, 1, 0])\n",
    "x2 = np.array([0, 1, 0, 1, 1, 1, 1, 1, 1, 1])\n",
    "y  = np.array([0, 0, 0, 0, 0, 1, 1, 1, 1, 1])\n"
   ]
  },
  {
   "cell_type": "markdown",
   "metadata": {},
   "source": [
    "Найдем априорные вероятности $Pr(y=0)$ и $Pr(y=1)$:"
   ]
  },
  {
   "cell_type": "code",
   "execution_count": 18,
   "metadata": {},
   "outputs": [
    {
     "data": {
      "text/plain": [
       "(0.5, 0.5)"
      ]
     },
     "execution_count": 18,
     "metadata": {},
     "output_type": "execute_result"
    }
   ],
   "source": [
    "Py_eq_0 = float(len(np.where(y == 0)[0]))/len(y)\n",
    "Py_eq_1 = float(len(np.where(y == 1)[0]))/len(y)\n",
    "Py_eq_0,Py_eq_1"
   ]
  },
  {
   "cell_type": "markdown",
   "metadata": {},
   "source": [
    "Найдем маргинальные апостериорные вероятности:\n",
    "$Pr(x_1 = 1| y = 0)$,$Pr(x_2 = 1| y = 0)$"
   ]
  },
  {
   "cell_type": "code",
   "execution_count": 19,
   "metadata": {},
   "outputs": [
    {
     "data": {
      "text/plain": [
       "(0.6, 0.4)"
      ]
     },
     "execution_count": 19,
     "metadata": {},
     "output_type": "execute_result"
    }
   ],
   "source": [
    "Px1_eq1_if_y_eq0 = float(len(np.where((x1 == 1)&(y == 0))[0]))/len(np.where(y == 0)[0])\n",
    "Px2_eq1_if_y_eq0 = float(len(np.where((x2 == 1)&(y == 0))[0]))/len(np.where(y == 0)[0])\n",
    "Px2_eq1_if_y_eq0,Px1_eq1_if_y_eq0\n"
   ]
  },
  {
   "cell_type": "markdown",
   "metadata": {},
   "source": [
    "Найдем $Pr(x_1 = 1)$ и $Pr(x_2 = 1)$"
   ]
  },
  {
   "cell_type": "code",
   "execution_count": 20,
   "metadata": {},
   "outputs": [
    {
     "data": {
      "text/plain": [
       "(0.5, 0.8)"
      ]
     },
     "execution_count": 20,
     "metadata": {},
     "output_type": "execute_result"
    }
   ],
   "source": [
    "Px1_eq1 = float(len(np.where(x1 == 1)[0]))/len(x1)\n",
    "Px2_eq1 = float(len(np.where(x2 == 1)[0]))/len(x2)\n",
    "Px1_eq1,Px2_eq1"
   ]
  },
  {
   "cell_type": "markdown",
   "metadata": {},
   "source": [
    "Найдем апостериорные вероятности по формуле Байеса:"
   ]
  },
  {
   "cell_type": "code",
   "execution_count": 21,
   "metadata": {},
   "outputs": [
    {
     "data": {
      "text/plain": [
       "(0.0923076923076923, 0.0923076923076923)"
      ]
     },
     "execution_count": 21,
     "metadata": {},
     "output_type": "execute_result"
    }
   ],
   "source": [
    "Py_eq0_if_x1_eq1_x2_eq1 = Px1_eq1_if_y_eq0*Px2_eq1_if_y_eq0*Py_eq_0/(Px1_eq1+Px2_eq1)\n",
    "Py_eq1_if_x1_eq1_x2_eq1 = Px1_eq1_if_y_eq0*Px2_eq1_if_y_eq0*Py_eq_1/(Px1_eq1+Px2_eq1)\n",
    "Py_eq0_if_x1_eq1_x2_eq1,Py_eq1_if_x1_eq1_x2_eq1"
   ]
  },
  {
   "cell_type": "markdown",
   "metadata": {},
   "source": [
    "Ответ:$Pr(y = 0|x_1 = 1,x_2 = 1) = 0.0923$ $Pr(y = 1|x_1 = 1,x_2 = 1) = 0.0923$ "
   ]
  },
  {
   "cell_type": "markdown",
   "metadata": {},
   "source": [
    "# Задача 29\n",
    "Может ли использование коррелированных переменных улучшить качество предсказания? Рассмотрим задачу классификации с двумя классами. Пусть пространство признаков двумерное. Объекты каждого класса имеют нормальное распределение с математическим ожиданием (-1,-1) и (1,1) соответственно и единичной матрицей ковариации каждый. Априорные вероятности классов равны $1/2$.\n",
    "\n",
    "1) Вычислить коэффициент корреляции для переменных $x_1$, $x_2$.\n",
    "\n",
    "2) Найти байесов классификатор и вычислить байесову ошибку для усеченной задачи,рассматривая только одну переменную $x_1$.\n",
    "\n",
    "3) Найти байесов классификатор и вычислить байесову ошибку для исходной задачи.\n",
    "\n",
    "4) Приводит ли использование второй переменной к уменьшению ошибки?"
   ]
  },
  {
   "cell_type": "code",
   "execution_count": 22,
   "metadata": {},
   "outputs": [],
   "source": [
    "from sklearn.naive_bayes import GaussianNB"
   ]
  },
  {
   "cell_type": "markdown",
   "metadata": {},
   "source": [
    "Сгенерируем выборки для первого и второго классов:"
   ]
  },
  {
   "cell_type": "code",
   "execution_count": 23,
   "metadata": {},
   "outputs": [
    {
     "data": {
      "text/plain": [
       "array([[ -2.52462631e+00,  -1.77513155e+00],\n",
       "       [ -2.10636718e+00,   6.00577852e-01],\n",
       "       [ -4.14387999e+00,  -1.46256355e+00],\n",
       "       [ -6.31235324e-01,  -1.51775128e+00],\n",
       "       [ -3.72410065e-01,  -4.78978135e-01],\n",
       "       [ -1.19941978e+00,  -1.86032778e+00],\n",
       "       [ -2.39413972e+00,  -7.57902683e-01],\n",
       "       [ -6.71289320e-01,  -1.40936585e+00],\n",
       "       [ -1.68983254e+00,  -9.17384642e-01],\n",
       "       [  1.40158580e+00,  -1.67155282e+00],\n",
       "       [  3.84616121e-01,   1.71228854e-01],\n",
       "       [ -1.77545160e+00,  -6.59236098e-01],\n",
       "       [  6.26581474e-01,  -1.59618524e+00],\n",
       "       [ -9.11257281e-03,  -4.19725514e-01],\n",
       "       [ -1.48861385e+00,   1.67967120e+00],\n",
       "       [ -1.10858251e+00,  -1.14026995e+00],\n",
       "       [ -1.41507271e+00,  -4.96278964e-01],\n",
       "       [ -1.20489207e+00,   3.40759509e-02],\n",
       "       [ -1.60473826e-01,  -5.39473942e-01],\n",
       "       [ -1.49796804e+00,   7.62558934e-01],\n",
       "       [ -8.40375050e-01,  -2.05516267e+00],\n",
       "       [ -1.25244626e+00,  -1.31468374e+00],\n",
       "       [ -1.66220391e+00,   4.41896097e-02],\n",
       "       [ -4.21719681e-01,   8.62743013e-01],\n",
       "       [  7.96529749e-01,  -4.98671362e-01],\n",
       "       [ -2.81270529e+00,   5.02122998e-03],\n",
       "       [ -1.40912598e+00,  -9.10329770e-02],\n",
       "       [ -1.12882188e+00,   3.70250353e-01],\n",
       "       [ -1.53187144e+00,   1.14613331e+00],\n",
       "       [  2.77324157e-01,   2.32600497e-01],\n",
       "       [ -1.40406002e+00,  -4.10217280e-01],\n",
       "       [ -2.50219683e-01,  -1.70328208e-01],\n",
       "       [ -1.34818995e+00,  -7.78602367e-01],\n",
       "       [  8.58187132e-02,  -1.15000740e+00],\n",
       "       [ -2.62819537e-01,  -6.82041430e-01],\n",
       "       [ -2.19703629e+00,  -1.12336765e+00],\n",
       "       [  8.41106786e-01,  -1.44886533e+00],\n",
       "       [ -1.64023296e-02,  -2.21976956e+00],\n",
       "       [ -3.17220702e+00,  -3.52257388e-01],\n",
       "       [ -7.69579620e-01,  -1.07903587e+00],\n",
       "       [ -2.42893369e+00,  -2.30500995e+00],\n",
       "       [ -1.15817121e+00,  -3.92722055e-01],\n",
       "       [ -1.09397800e+00,   2.55528450e+00],\n",
       "       [ -1.44319571e+00,  -1.85028707e+00],\n",
       "       [ -1.64729107e+00,  -6.43268295e-01],\n",
       "       [  6.32032618e-01,  -4.46979793e-01],\n",
       "       [ -3.02947568e-01,  -2.67380731e+00],\n",
       "       [ -5.25210047e-01,  -1.35973129e+00],\n",
       "       [  1.12575010e-01,  -9.14484448e-01],\n",
       "       [ -1.01700883e+00,  -1.46421897e+00],\n",
       "       [ -3.56574810e-01,  -1.07249667e+00],\n",
       "       [ -9.95583343e-01,  -1.03787408e+00],\n",
       "       [ -8.79698064e-01,  -9.25043480e-01],\n",
       "       [  5.18673852e-01,  -5.21462681e-01],\n",
       "       [ -8.64983430e-01,  -1.87900306e-01],\n",
       "       [ -4.89331739e-01,  -8.54309880e-01],\n",
       "       [ -9.48320826e-02,  -8.72108072e-01],\n",
       "       [ -4.80535056e-01,  -6.38577861e-01],\n",
       "       [ -1.64933628e+00,  -1.97872556e+00],\n",
       "       [ -1.57407710e+00,  -4.84080209e-01],\n",
       "       [ -3.49215468e+00,  -2.38386138e+00],\n",
       "       [ -6.54399622e-01,  -5.76271030e-01],\n",
       "       [ -6.00788937e-01,  -2.77899290e+00],\n",
       "       [ -1.36034093e+00,   7.77596986e-01],\n",
       "       [ -2.22661821e-01,  -1.56682234e+00],\n",
       "       [ -1.10931100e+00,  -1.47997400e+00],\n",
       "       [ -1.27708754e+00,  -1.39331716e+00],\n",
       "       [ -2.79207217e+00,  -1.00057471e+00],\n",
       "       [  3.89081348e-02,   6.02364697e-01],\n",
       "       [  5.75893767e-01,  -1.98444233e+00],\n",
       "       [  2.77021468e-01,  -2.62241792e+00],\n",
       "       [ -2.01896425e+00,  -2.95992358e-01],\n",
       "       [ -8.19546050e-01,  -1.17743958e+00],\n",
       "       [ -2.68950019e-01,  -1.11199886e+00],\n",
       "       [ -1.95666623e+00,  -1.06258218e+00],\n",
       "       [  6.68087938e-01,  -4.38118117e-01],\n",
       "       [ -1.43190556e+00,  -1.55188477e+00],\n",
       "       [  8.35092069e-02,  -8.02840546e-01],\n",
       "       [ -9.09617145e-01,   8.69745621e-02],\n",
       "       [ -8.56135863e-01,  -8.78984268e-01],\n",
       "       [  9.54112318e-01,  -2.23249096e+00],\n",
       "       [ -2.50193175e-01,  -2.80576757e-01],\n",
       "       [ -1.21206512e+00,  -8.63912375e-01],\n",
       "       [ -2.15489709e+00,   7.78828672e-01],\n",
       "       [  8.13994862e-01,  -5.85740443e-01],\n",
       "       [  2.28947367e-01,  -2.40515911e+00],\n",
       "       [ -1.91053757e+00,  -1.26881317e+00],\n",
       "       [  6.64189370e-02,  -5.76497406e-01],\n",
       "       [ -1.19143094e+00,  -2.23009880e+00],\n",
       "       [ -1.19616170e+00,  -6.37021738e-01],\n",
       "       [  1.48388840e+00,   2.42138868e-01],\n",
       "       [ -1.61513378e+00,   9.29931525e-01],\n",
       "       [ -9.35034103e-01,   2.76288355e-01],\n",
       "       [ -5.16728028e-01,  -1.28214815e+00],\n",
       "       [ -2.42776580e-01,   1.00058530e+00],\n",
       "       [ -8.87480988e-01,  -2.63329879e+00],\n",
       "       [ -2.61901821e+00,  -2.87460483e+00],\n",
       "       [ -1.13572003e+00,  -7.40051037e-01],\n",
       "       [  2.25586704e-03,   7.60470981e-02],\n",
       "       [  3.48255833e-02,   7.24561192e-01],\n",
       "       [ -7.78039541e-01,  -1.68812285e+00],\n",
       "       [  6.60317584e-01,   1.78645072e-01],\n",
       "       [ -1.82039881e+00,  -1.79215991e-01],\n",
       "       [ -3.13444877e+00,  -1.38586058e+00],\n",
       "       [ -4.26015251e-01,  -1.46527907e+00],\n",
       "       [ -1.34055315e+00,  -1.74133105e+00],\n",
       "       [ -1.25302212e+00,  -1.81475572e+00],\n",
       "       [ -2.11239649e+00,  -1.20152479e+00],\n",
       "       [ -6.21337423e-01,  -1.82615060e+00],\n",
       "       [ -5.32345591e-01,  -2.69494700e-01],\n",
       "       [ -2.57888261e+00,   1.01328515e+00],\n",
       "       [ -7.51037011e-01,  -2.34082660e+00],\n",
       "       [  1.12283572e+00,  -1.36785258e+00],\n",
       "       [ -1.46288890e+00,  -5.33499614e-01],\n",
       "       [ -1.91522860e+00,  -3.78781769e-01],\n",
       "       [ -4.23138202e-01,  -2.34835252e+00],\n",
       "       [ -1.06276250e+00,  -1.40029666e+00],\n",
       "       [  4.07117414e-01,  -2.65303777e+00],\n",
       "       [ -6.35254569e-01,   1.97183302e-01],\n",
       "       [ -1.22178043e+00,   2.63094036e-01],\n",
       "       [ -2.03104255e-02,  -2.74625613e-01],\n",
       "       [ -2.05284604e+00,  -1.32389753e+00],\n",
       "       [  1.34022997e+00,  -1.40806661e+00],\n",
       "       [ -6.95979845e-01,  -2.38813773e+00],\n",
       "       [ -1.79643099e+00,   2.07397464e-01],\n",
       "       [ -2.76253509e-01,   7.76756242e-05],\n",
       "       [ -1.04860304e+00,  -4.62131923e-01],\n",
       "       [  7.28077789e-01,  -1.23667734e+00],\n",
       "       [ -2.03277980e+00,  -1.16971769e+00],\n",
       "       [ -1.24983069e+00,  -2.31625814e+00],\n",
       "       [ -2.19952528e-01,  -1.64082043e+00],\n",
       "       [ -4.44279041e-01,  -1.26186190e+00],\n",
       "       [ -1.00389074e+00,  -7.44612886e-01],\n",
       "       [ -1.85523892e+00,   2.45060368e-01],\n",
       "       [ -1.21530810e+00,  -1.39686811e+00],\n",
       "       [  4.11546160e-01,  -7.26186152e-01],\n",
       "       [ -2.90771968e+00,  -6.16845286e-01],\n",
       "       [  3.87111245e-01,  -1.02726720e+00],\n",
       "       [ -3.08906673e+00,  -1.84163128e+00],\n",
       "       [  8.07801123e-01,  -3.83509267e-01],\n",
       "       [ -2.79730633e-01,  -1.36262803e+00],\n",
       "       [ -2.17229607e+00,  -4.07717707e-01],\n",
       "       [ -2.55135330e-03,  -8.40784059e-01],\n",
       "       [  8.93880615e-02,   3.45185012e-01],\n",
       "       [ -3.31580319e-01,   1.50679800e-01],\n",
       "       [ -1.44636216e+00,   5.93630843e-01],\n",
       "       [  2.61133593e-01,  -1.27269295e+00],\n",
       "       [ -5.68441589e-01,  -2.02686409e+00],\n",
       "       [ -1.14609746e+00,   1.00414323e+00],\n",
       "       [  9.40778512e-01,  -8.91343729e-01],\n",
       "       [ -3.79385982e+00,  -2.68173381e+00],\n",
       "       [ -9.09063003e-01,  -1.09237562e+00],\n",
       "       [ -1.46287782e-01,  -1.38367942e+00],\n",
       "       [  4.98012172e-01,  -4.54093349e-01],\n",
       "       [ -2.12015307e-01,  -6.41074206e-01],\n",
       "       [ -8.26902412e-01,  -1.76985207e+00],\n",
       "       [ -5.77458639e-01,  -1.49198285e+00],\n",
       "       [  7.47409069e-01,  -1.35500394e+00],\n",
       "       [ -8.03602384e-01,  -8.16288750e-01],\n",
       "       [  1.24752540e+00,  -4.47432805e-01],\n",
       "       [ -1.57179907e+00,  -2.69872667e+00],\n",
       "       [ -6.02142385e-01,  -1.45456257e+00],\n",
       "       [ -1.64421984e+00,  -1.36293812e-01],\n",
       "       [ -2.65569190e+00,  -5.43782105e-01],\n",
       "       [ -4.53576863e-01,   9.87112466e-01],\n",
       "       [ -2.10272408e+00,  -1.18433171e+00],\n",
       "       [  1.39780983e-01,   1.70671142e+00],\n",
       "       [ -1.73842868e+00,  -1.04429861e+00],\n",
       "       [ -2.12937386e+00,  -1.22073509e+00],\n",
       "       [ -1.07319964e-01,  -2.25868707e+00],\n",
       "       [ -4.94341155e-01,  -2.33465475e+00],\n",
       "       [ -2.30989458e-01,  -2.98184736e+00],\n",
       "       [ -2.25631831e+00,  -6.54160060e-01],\n",
       "       [ -7.33908511e-01,   3.17237327e-01],\n",
       "       [ -1.92246985e+00,  -1.84724765e+00],\n",
       "       [ -1.42122070e+00,   1.94372785e-01],\n",
       "       [ -1.84378142e+00,  -1.45152578e+00],\n",
       "       [ -6.09566375e-01,  -1.14702115e+00],\n",
       "       [  1.24442170e+00,  -4.32077519e-01],\n",
       "       [ -3.85258966e+00,  -8.35144391e-01],\n",
       "       [  4.41926991e-02,   6.01336605e-01],\n",
       "       [ -1.64997191e+00,   1.89321549e-01],\n",
       "       [ -1.76833187e+00,  -2.13245803e+00],\n",
       "       [ -9.31085534e-01,   1.75045877e-01],\n",
       "       [ -1.24844898e+00,  -6.51914210e-01],\n",
       "       [ -6.31474605e-01,  -1.63823931e+00],\n",
       "       [ -3.63373043e+00,  -1.97451384e+00],\n",
       "       [ -1.19526924e-01,  -1.95791689e+00],\n",
       "       [ -8.06654244e-01,  -7.20605919e-01],\n",
       "       [ -1.82553343e+00,   9.91674572e-01],\n",
       "       [ -3.41010876e+00,  -5.87549156e-01],\n",
       "       [ -6.47018848e-01,  -1.29824781e+00],\n",
       "       [ -1.36337744e+00,  -2.22103696e+00],\n",
       "       [ -9.07421956e-01,  -5.82568405e-01],\n",
       "       [ -6.76679725e-01,  -1.85325080e-01],\n",
       "       [ -1.15942199e+00,  -8.81789939e-01],\n",
       "       [ -1.46001086e+00,   3.22072591e-01],\n",
       "       [ -1.48542154e+00,  -2.32685609e+00],\n",
       "       [  2.05735729e+00,  -7.92230147e-01],\n",
       "       [ -1.81411628e+00,  -1.20965515e+00],\n",
       "       [ -1.29126183e+00,  -6.78092151e-01],\n",
       "       [ -1.81288330e+00,  -3.22872991e-01],\n",
       "       [  3.28133855e-01,  -9.14401564e-01],\n",
       "       [ -1.40720031e+00,   3.89272130e-01],\n",
       "       [ -9.79282728e-01,  -1.67252660e+00],\n",
       "       [  1.64092103e-01,  -3.71139704e-01],\n",
       "       [ -7.46230515e-01,  -1.13403954e+00],\n",
       "       [ -1.60392821e+00,  -1.51696195e+00],\n",
       "       [ -1.61576024e+00,  -2.32133817e+00],\n",
       "       [ -1.78876277e+00,  -1.32463749e+00],\n",
       "       [  7.85114817e-01,  -1.04560966e+00],\n",
       "       [  7.01770764e-02,  -4.80421331e-01],\n",
       "       [  9.86462118e-01,   1.87224715e-02],\n",
       "       [ -1.19834524e+00,  -2.68927566e+00],\n",
       "       [ -1.65444981e+00,  -6.76958776e-01],\n",
       "       [ -3.00066353e+00,  -9.41051952e-02],\n",
       "       [ -1.35131454e+00,  -1.98256636e+00],\n",
       "       [ -3.54852932e-01,  -2.02258098e+00],\n",
       "       [ -5.07405014e-01,  -2.88759210e+00],\n",
       "       [ -6.04490705e-01,  -4.53970992e-01],\n",
       "       [ -1.80325138e+00,  -5.16558680e-02],\n",
       "       [ -2.76255066e+00,  -7.58550935e-01],\n",
       "       [ -3.46352207e-01,   7.34291886e-01],\n",
       "       [ -1.02064097e+00,  -1.06126021e+00],\n",
       "       [ -2.31310615e+00,  -2.31809620e+00],\n",
       "       [ -1.48090756e+00,  -6.34846566e-01],\n",
       "       [ -1.87174445e+00,  -2.09938566e+00],\n",
       "       [ -2.24478933e+00,  -5.52289723e-01],\n",
       "       [ -1.36088845e+00,  -1.32457401e+00],\n",
       "       [ -1.87446674e+00,  -2.32165603e-01],\n",
       "       [ -1.16390094e+00,  -3.93150291e+00],\n",
       "       [ -1.06200681e+00,   6.67264636e-01],\n",
       "       [ -2.15916645e+00,  -1.99005681e+00],\n",
       "       [ -1.54214220e+00,  -4.83545492e-02],\n",
       "       [ -1.02904415e+00,  -1.64665764e+00],\n",
       "       [ -2.31841012e+00,   1.82773967e+00],\n",
       "       [ -4.45706528e-01,  -1.46916213e+00],\n",
       "       [ -1.55620444e+00,  -2.10770125e+00],\n",
       "       [ -8.86152888e-01,  -2.68269723e+00],\n",
       "       [ -9.89643458e-01,  -1.78620157e+00],\n",
       "       [ -5.01529353e-01,  -1.30619950e-01],\n",
       "       [ -9.57819352e-01,  -1.79782304e+00],\n",
       "       [ -1.95968562e+00,  -1.31489102e+00],\n",
       "       [  2.51406274e-01,  -3.00729154e+00],\n",
       "       [ -3.92651214e-01,   2.36781322e-01],\n",
       "       [ -1.27008943e+00,   2.47396060e-01],\n",
       "       [  4.31399531e-01,   2.10199853e-01],\n",
       "       [ -1.11473044e+00,  -1.34431029e+00],\n",
       "       [ -1.68791318e+00,  -1.98831017e+00],\n",
       "       [ -1.29209812e+00,  -4.53401918e-01],\n",
       "       [ -1.79732869e+00,  -1.58882245e+00],\n",
       "       [ -2.19298013e+00,  -4.47313527e-02],\n",
       "       [  2.08755026e-01,  -1.63844502e+00],\n",
       "       [ -8.91799339e-01,  -6.30959005e-01],\n",
       "       [ -1.34579854e-01,  -2.32664184e+00],\n",
       "       [ -2.14083111e+00,  -1.50302417e+00],\n",
       "       [ -1.55660870e+00,  -2.05453064e-01],\n",
       "       [  8.55480228e-01,   8.75916153e-01],\n",
       "       [ -1.30162055e+00,   2.48505316e-02],\n",
       "       [  4.13361120e-01,  -1.34125431e+00],\n",
       "       [  4.41686134e-01,  -7.72230709e-01],\n",
       "       [  2.22739863e-01,  -1.20377128e+00],\n",
       "       [ -3.05132050e+00,   9.22716092e-02],\n",
       "       [ -1.48025741e+00,  -2.55925240e+00],\n",
       "       [ -4.68673500e-01,  -6.03546780e-01],\n",
       "       [  2.32279823e-01,  -1.11818704e+00],\n",
       "       [ -9.30270725e-01,  -8.59326026e-02],\n",
       "       [ -8.62131224e-01,  -1.25196239e-01],\n",
       "       [ -1.82760934e+00,  -8.30682423e-01],\n",
       "       [ -1.67840264e-01,  -2.86460261e+00],\n",
       "       [ -6.55819309e-01,  -1.21891343e+00],\n",
       "       [  1.54514384e-01,  -1.50883729e+00],\n",
       "       [ -1.00522011e+00,   3.98971458e-01],\n",
       "       [ -1.40963810e+00,  -3.17524276e+00],\n",
       "       [ -2.17846418e+00,  -7.13994179e-01],\n",
       "       [  1.78244820e-01,   5.80967053e-01],\n",
       "       [  1.05100987e-01,  -1.44292538e+00],\n",
       "       [ -1.04576217e+00,   1.01328200e-01],\n",
       "       [ -1.13805838e+00,  -4.05656496e-01],\n",
       "       [ -2.88516498e-01,  -1.19869644e+00],\n",
       "       [  1.48576148e+00,  -1.30326367e+00],\n",
       "       [ -1.07287821e+00,  -1.64096904e+00],\n",
       "       [ -4.45965860e-02,  -1.12806887e+00],\n",
       "       [ -1.99018422e+00,  -1.09660710e+00],\n",
       "       [ -1.38627654e+00,  -2.28492306e+00],\n",
       "       [ -2.06088710e+00,  -2.67982958e+00],\n",
       "       [ -7.20445151e-01,  -2.15842020e+00],\n",
       "       [  3.70083160e-01,  -1.32387275e+00],\n",
       "       [  2.24167080e-01,  -1.86571848e+00],\n",
       "       [  1.12956326e+00,  -2.76545438e-02],\n",
       "       [  1.03975481e-01,   3.21425137e-01],\n",
       "       [  7.92417047e-01,  -2.16588728e+00],\n",
       "       [ -2.01030545e+00,  -2.17001499e+00],\n",
       "       [ -2.67371064e-01,  -5.31168763e-01],\n",
       "       [ -1.43109804e+00,   1.92440200e-01],\n",
       "       [ -1.83604295e+00,  -2.10012451e-01],\n",
       "       [ -1.16348873e+00,  -1.10142297e+00],\n",
       "       [ -1.64535634e+00,  -1.37023041e+00],\n",
       "       [ -8.49513145e-01,   3.84907487e-02],\n",
       "       [ -1.43981213e+00,  -2.26589399e-01]])"
      ]
     },
     "execution_count": 23,
     "metadata": {},
     "output_type": "execute_result"
    }
   ],
   "source": [
    "c1 = np.random.multivariate_normal([-1, -1],[[1,0],[0,1]],300) #y = 0\n",
    "c1\n",
    "\n"
   ]
  },
  {
   "cell_type": "code",
   "execution_count": 24,
   "metadata": {},
   "outputs": [
    {
     "data": {
      "text/plain": [
       "array([[ 0.75223293, -0.03899464],\n",
       "       [ 0.24604659,  1.45229475],\n",
       "       [ 1.05310671,  0.22594342],\n",
       "       [ 0.80671675,  1.98857299],\n",
       "       [ 1.36884754, -0.39998714],\n",
       "       [ 0.7234548 , -0.82235893],\n",
       "       [ 1.27168996,  1.55746264],\n",
       "       [ 1.79997958,  1.42453276],\n",
       "       [-0.42029456,  0.56880545],\n",
       "       [ 2.78169083, -0.88705826],\n",
       "       [ 2.21768609,  1.38811803],\n",
       "       [ 0.9348168 , -0.21782532],\n",
       "       [ 3.65194545,  0.49691243],\n",
       "       [ 2.10471216,  2.20106491],\n",
       "       [ 2.71872853,  0.61747133],\n",
       "       [ 0.20524841,  1.20922112],\n",
       "       [ 1.15197537,  1.21151044],\n",
       "       [ 1.19995134,  0.67471508],\n",
       "       [ 0.04830238,  0.95781985],\n",
       "       [ 0.30967837,  1.5958063 ],\n",
       "       [ 2.46364066,  1.60432919],\n",
       "       [ 1.78749311,  0.9756772 ],\n",
       "       [ 2.48668253,  0.54059291],\n",
       "       [ 1.28041379,  0.85784032],\n",
       "       [ 1.6381351 ,  1.70656028],\n",
       "       [-0.67056538,  1.95835215],\n",
       "       [ 1.07463619,  2.15367964],\n",
       "       [-0.48658693, -1.12967091],\n",
       "       [ 1.25135489, -0.17675932],\n",
       "       [ 0.0270442 ,  0.66090893],\n",
       "       [ 0.31954989,  2.70017406],\n",
       "       [ 0.5531847 ,  1.14643381],\n",
       "       [ 0.18335276,  0.863359  ],\n",
       "       [ 0.90630893,  0.54679415],\n",
       "       [ 1.45092873,  2.4597268 ],\n",
       "       [ 0.05624597,  0.73911811],\n",
       "       [ 1.89517282, -0.94293695],\n",
       "       [ 0.91165204,  0.42337459],\n",
       "       [ 2.30897836,  1.2952449 ],\n",
       "       [ 2.201926  ,  0.94965101],\n",
       "       [ 0.27067589,  0.99376403],\n",
       "       [ 1.16329936,  0.01115301],\n",
       "       [ 2.84530561,  0.36613903],\n",
       "       [ 0.67111838,  0.96061731],\n",
       "       [ 1.678559  ,  0.73239922],\n",
       "       [ 0.05931039,  1.32718691],\n",
       "       [ 1.11526251,  0.32145518],\n",
       "       [ 0.19217538, -0.04207508],\n",
       "       [ 1.03427753,  1.84766844],\n",
       "       [ 0.98173002,  0.6605416 ],\n",
       "       [ 1.62989549,  1.53473227],\n",
       "       [ 0.20698858,  0.31526531],\n",
       "       [ 0.43338108,  2.62446902],\n",
       "       [ 0.52251655,  1.77160541],\n",
       "       [ 0.94454968,  1.61384372],\n",
       "       [ 0.68463104,  0.57418756],\n",
       "       [-0.54020968,  0.78625578],\n",
       "       [ 0.24764954,  1.42794332],\n",
       "       [-1.44618164,  0.36112036],\n",
       "       [ 2.24250727,  1.04505024],\n",
       "       [ 1.30914503,  0.57139351],\n",
       "       [-0.2620455 ,  1.17173337],\n",
       "       [ 0.84890508,  2.50962015],\n",
       "       [-0.80524329,  2.7037924 ],\n",
       "       [ 0.65372142,  0.64373532],\n",
       "       [-0.35791794,  2.46081169],\n",
       "       [-1.01429633,  2.29770612],\n",
       "       [ 1.87714303,  0.66245183],\n",
       "       [ 0.50204528,  0.77628171],\n",
       "       [ 0.50792198,  2.89256254],\n",
       "       [ 0.71099314,  0.603395  ],\n",
       "       [-0.33817314,  1.9414315 ],\n",
       "       [ 1.43385725,  1.12945488],\n",
       "       [-0.63298927,  1.04617286],\n",
       "       [ 0.76399281,  1.24351635],\n",
       "       [ 1.38820883, -0.51249011],\n",
       "       [-0.34539319,  0.85684193],\n",
       "       [ 0.91566441,  0.89883426],\n",
       "       [ 0.46682111,  1.97960641],\n",
       "       [ 0.54603277,  1.09688681],\n",
       "       [ 0.97257559, -0.87513449],\n",
       "       [ 0.55098316,  2.94612058],\n",
       "       [ 1.15840213,  1.92214926],\n",
       "       [ 0.92528974,  1.1502149 ],\n",
       "       [ 1.05841829,  0.7807618 ],\n",
       "       [-0.1575965 ,  0.5942427 ],\n",
       "       [-0.05281566, -0.24591415],\n",
       "       [ 0.69645468,  0.78675867],\n",
       "       [ 1.34031481,  1.86664654],\n",
       "       [ 0.23239582,  1.13605509],\n",
       "       [-0.28770915,  1.62320476],\n",
       "       [ 0.47561654,  1.7951314 ],\n",
       "       [ 0.63798549,  2.9877563 ],\n",
       "       [ 1.03358777,  0.61445003],\n",
       "       [ 2.22105308, -1.88140436],\n",
       "       [ 0.26063782,  1.36980322],\n",
       "       [ 1.82127545,  0.40482551],\n",
       "       [-0.10595259, -1.52592729],\n",
       "       [ 1.47370241,  0.99584291],\n",
       "       [ 2.06936612,  1.57181967],\n",
       "       [ 1.04594121, -0.36130893],\n",
       "       [ 1.81435092, -0.35402584],\n",
       "       [ 0.64249278,  2.05845053],\n",
       "       [ 0.20087126,  1.48189925],\n",
       "       [ 0.96878357,  2.37122859],\n",
       "       [ 1.22193931,  2.46068401],\n",
       "       [ 1.11778134, -0.25162147],\n",
       "       [ 2.1166141 ,  1.22661307],\n",
       "       [ 0.75069606,  1.99480685],\n",
       "       [ 0.27906968,  2.77964786],\n",
       "       [ 2.26513752,  0.78906037],\n",
       "       [ 0.24774991,  0.6444196 ],\n",
       "       [ 0.0856505 ,  3.33226891],\n",
       "       [-0.74702271,  1.22232505],\n",
       "       [ 0.40622953,  0.46989696],\n",
       "       [ 1.10023566,  0.06692941],\n",
       "       [ 2.57758183,  1.3255702 ],\n",
       "       [ 2.01735095,  2.06025377],\n",
       "       [ 1.69671586,  2.5959404 ],\n",
       "       [ 0.90206746,  2.34210043],\n",
       "       [ 1.1128916 ,  0.88591785],\n",
       "       [ 2.12841749,  2.30730759],\n",
       "       [ 0.28629487, -0.24699975],\n",
       "       [ 1.05500625,  1.49021693],\n",
       "       [-0.16198801,  1.48140374],\n",
       "       [-0.89052674, -0.06782256],\n",
       "       [ 0.4992571 ,  1.78407063],\n",
       "       [-0.29724654,  0.77182839],\n",
       "       [ 0.3849314 ,  2.43122108],\n",
       "       [ 1.20037218,  1.97909211],\n",
       "       [-0.1000063 , -0.39048253],\n",
       "       [ 2.10745159,  0.55151782],\n",
       "       [ 1.84769767, -0.96571797],\n",
       "       [ 2.04568944,  1.0456976 ],\n",
       "       [ 1.40708066,  1.28011211],\n",
       "       [ 1.79661687,  1.10546065],\n",
       "       [ 2.06961493,  2.00633121],\n",
       "       [ 0.85809286,  0.6061083 ],\n",
       "       [ 0.46908354, -0.32770828],\n",
       "       [-0.41097938, -0.89649518],\n",
       "       [-0.08226256, -0.19761509],\n",
       "       [ 0.9964212 ,  0.70231529],\n",
       "       [-0.66868312, -0.73223541],\n",
       "       [-1.04684007,  1.536824  ],\n",
       "       [ 1.21402635, -0.31940125],\n",
       "       [ 2.25866737, -0.57433128],\n",
       "       [ 1.2319456 ,  1.92842345],\n",
       "       [ 1.35420441,  1.89173444],\n",
       "       [ 0.33415215,  0.67141339],\n",
       "       [ 1.34290987,  1.59623829],\n",
       "       [ 0.82879546,  0.13193378],\n",
       "       [ 0.10503363,  0.8130477 ],\n",
       "       [ 1.04548997,  1.4489846 ],\n",
       "       [ 1.30570094,  0.34585841],\n",
       "       [ 0.36217184,  0.11571827],\n",
       "       [ 2.41705513,  2.27760317],\n",
       "       [ 0.24662757,  0.03042466],\n",
       "       [ 0.33529743, -0.41640964],\n",
       "       [ 1.11190674,  1.67058874],\n",
       "       [ 0.15573909,  1.92224609],\n",
       "       [-0.22832625,  0.1180491 ],\n",
       "       [ 1.23885717,  1.22906047],\n",
       "       [ 1.14878767, -0.20366286],\n",
       "       [ 1.12250252,  0.98706215],\n",
       "       [ 2.34816187,  1.73577339],\n",
       "       [ 0.93917704,  2.92770446],\n",
       "       [ 2.37707417,  1.6917231 ],\n",
       "       [-0.2949837 ,  0.693236  ],\n",
       "       [ 2.19518905,  1.10978789],\n",
       "       [ 0.41787031,  0.71347543],\n",
       "       [-1.40916494,  1.56293084],\n",
       "       [-1.62924368,  1.16800762],\n",
       "       [-0.7242206 ,  1.38460865],\n",
       "       [-0.60957146,  0.766143  ],\n",
       "       [-0.93138009,  0.93530597],\n",
       "       [ 0.20640108,  0.52455222],\n",
       "       [ 0.45859958,  1.44069371],\n",
       "       [-0.5264453 ,  2.93521711],\n",
       "       [ 1.94470706,  0.81950416],\n",
       "       [ 0.67692303, -0.5296902 ],\n",
       "       [ 1.34590859, -0.9769739 ],\n",
       "       [ 2.98677355,  0.80554038],\n",
       "       [ 0.90217368,  0.6961081 ],\n",
       "       [ 0.92746114,  2.51883885],\n",
       "       [ 1.39918698,  1.50760358],\n",
       "       [ 0.17495975, -0.44568699],\n",
       "       [ 0.77789288,  0.90364719],\n",
       "       [ 0.75184114,  1.3702743 ],\n",
       "       [ 1.01174401,  2.20060809],\n",
       "       [ 0.82894318,  1.962235  ],\n",
       "       [ 1.40094888,  1.11795168],\n",
       "       [-0.58269792,  1.70396153],\n",
       "       [ 0.41207281, -0.21091068],\n",
       "       [-0.8137872 ,  0.62432556],\n",
       "       [ 2.60043364,  0.7306306 ],\n",
       "       [ 0.83314727, -0.89114672],\n",
       "       [ 0.13009086,  2.15799041],\n",
       "       [ 0.76616633,  0.93809745],\n",
       "       [ 0.96419696, -0.83564566],\n",
       "       [ 0.74181981,  0.4694793 ],\n",
       "       [ 1.81317139,  1.29160376],\n",
       "       [ 1.74449221,  2.68495996],\n",
       "       [-0.04274733,  0.91575993],\n",
       "       [ 2.03454033,  0.37847927],\n",
       "       [ 0.44667329,  1.75762435],\n",
       "       [ 1.07108572,  0.23914272],\n",
       "       [ 3.3383366 ,  0.62154965],\n",
       "       [ 1.15500636,  1.12891559],\n",
       "       [-0.02325278,  1.88125713],\n",
       "       [ 2.45536492,  1.21758661],\n",
       "       [ 1.7023682 ,  0.81588944],\n",
       "       [ 2.67096388,  1.37001923],\n",
       "       [ 0.79329813,  1.22328254],\n",
       "       [ 1.35703024,  0.62719569],\n",
       "       [-0.62354115,  0.15786248],\n",
       "       [ 1.04798648,  2.19822974],\n",
       "       [ 1.11788286, -0.09224972],\n",
       "       [ 2.01047762,  2.61578025],\n",
       "       [-0.35100672,  1.06655959],\n",
       "       [ 1.91832665,  1.3999209 ],\n",
       "       [ 1.37332652,  2.59318785],\n",
       "       [ 1.38033243,  1.12749538],\n",
       "       [ 0.47381029,  0.92053343],\n",
       "       [-1.21531637,  0.61197219],\n",
       "       [ 1.55552123,  1.20446744],\n",
       "       [ 2.47689963,  0.56023677],\n",
       "       [ 3.10696278,  1.47807617],\n",
       "       [-0.073604  ,  0.82969835],\n",
       "       [ 0.41066513,  3.1531165 ],\n",
       "       [ 1.87034966,  1.20315946],\n",
       "       [ 0.20161459, -0.2182642 ],\n",
       "       [ 2.57875671,  2.08980939],\n",
       "       [ 1.54922115,  2.06064419],\n",
       "       [ 0.14195842,  0.54803051],\n",
       "       [ 2.50031804, -0.13968588],\n",
       "       [-0.51757122,  0.69121102],\n",
       "       [ 2.57638777,  0.89693899],\n",
       "       [ 2.9522527 ,  0.67300696],\n",
       "       [ 1.96921328,  1.29477625],\n",
       "       [-0.08365237, -0.26896146],\n",
       "       [ 1.52680882,  2.96591271],\n",
       "       [ 1.75606363,  2.51919511],\n",
       "       [ 2.9348582 , -0.15049817],\n",
       "       [ 1.43215372, -1.09863438],\n",
       "       [-0.06238723,  1.73853252],\n",
       "       [ 0.79322512,  2.50763339],\n",
       "       [ 0.8681286 ,  0.38785633],\n",
       "       [ 1.67515375,  0.07777185],\n",
       "       [ 1.91232914,  1.81124248],\n",
       "       [ 3.38338558,  2.02429782],\n",
       "       [ 3.07706992,  1.71394243],\n",
       "       [-0.35686979,  1.34405458],\n",
       "       [ 1.75911041, -0.21100143],\n",
       "       [ 1.45658034,  0.02372712],\n",
       "       [ 0.03661104,  1.26543509],\n",
       "       [ 3.35425514,  3.04820989],\n",
       "       [ 1.31924448,  0.95815138],\n",
       "       [ 1.04449805,  1.09212578],\n",
       "       [ 0.98714869,  1.46496307],\n",
       "       [ 0.73945642, -0.42808574],\n",
       "       [ 2.68178209,  3.11805978],\n",
       "       [ 0.95368728, -0.00806627],\n",
       "       [ 2.70472862,  1.26587462],\n",
       "       [ 0.99385984,  1.9593828 ],\n",
       "       [ 0.72493654,  1.07873054],\n",
       "       [ 0.81541083,  1.38768562],\n",
       "       [ 1.31264172,  1.95393693],\n",
       "       [ 1.17946769,  0.50237882],\n",
       "       [ 1.41274785,  0.96140465],\n",
       "       [ 1.83192156,  0.81963286],\n",
       "       [ 1.29348785,  2.71467757],\n",
       "       [ 0.44084717,  2.28845529],\n",
       "       [ 0.61018307,  2.48655745],\n",
       "       [ 0.71751576,  0.58343409],\n",
       "       [ 1.65700201,  1.43684963],\n",
       "       [ 1.9615215 ,  0.71574388],\n",
       "       [ 0.99791322,  1.00677522],\n",
       "       [ 2.37990887,  0.27543875],\n",
       "       [ 0.00470507,  3.14694707],\n",
       "       [ 1.71596358,  0.10397843],\n",
       "       [ 2.26664328, -0.75808274],\n",
       "       [ 0.02607937,  2.23152998],\n",
       "       [-0.39679025,  0.51295596],\n",
       "       [ 0.12646122,  0.78242927],\n",
       "       [ 0.27104463,  0.26967537],\n",
       "       [ 1.34250821,  1.72720897],\n",
       "       [ 3.29331036,  1.86454075],\n",
       "       [ 1.10182604,  2.32605687],\n",
       "       [ 1.60071545,  1.80796493],\n",
       "       [ 0.69983503, -1.37135141],\n",
       "       [ 0.77672525,  0.9300492 ],\n",
       "       [ 0.40609389,  1.44833803],\n",
       "       [-0.65287157,  1.77154264],\n",
       "       [ 0.85273048,  1.18687694],\n",
       "       [-0.10635263, -0.26208608],\n",
       "       [ 3.08460813,  0.11372197],\n",
       "       [-0.67169467,  1.72189723],\n",
       "       [ 2.72592189,  0.30672251],\n",
       "       [ 1.14552092, -0.6419381 ],\n",
       "       [ 0.36195779,  2.62293024]])"
      ]
     },
     "execution_count": 24,
     "metadata": {},
     "output_type": "execute_result"
    }
   ],
   "source": [
    "c2 = np.random.multivariate_normal([1, 1],[[1,0],[0,1]],300)#y = 1\n",
    "c2\n"
   ]
  },
  {
   "cell_type": "code",
   "execution_count": 25,
   "metadata": {},
   "outputs": [
    {
     "data": {
      "text/plain": [
       "<matplotlib.text.Text at 0x7fd3fc6c0050>"
      ]
     },
     "execution_count": 25,
     "metadata": {},
     "output_type": "execute_result"
    },
    {
     "data": {
      "image/png": "[encoded data removed]",
      "text/plain": [
       "<matplotlib.figure.Figure at 0x7fd3fcbb2290>"
      ]
     },
     "metadata": {},
     "output_type": "display_data"
    }
   ],
   "source": [
    "plt.scatter(c1[:,0],c1[:,1],color='lightblue')\n",
    "plt.scatter(c2[:,0],c2[:,1],color='pink')\n",
    "plt.xlabel('x1 axis')\n",
    "plt.ylabel('x2 axis')"
   ]
  },
  {
   "cell_type": "markdown",
   "metadata": {},
   "source": [
    "1) Составим $x_1$ и $x_2$ и найдем коэффициент корреляции между ними:"
   ]
  },
  {
   "cell_type": "code",
   "execution_count": 26,
   "metadata": {},
   "outputs": [
    {
     "data": {
      "text/plain": [
       "array([[ 1.        ,  0.47529999],\n",
       "       [ 0.47529999,  1.        ]])"
      ]
     },
     "execution_count": 26,
     "metadata": {},
     "output_type": "execute_result"
    }
   ],
   "source": [
    "x1x2 = np.vstack((c1,c2))\n",
    "x1 = np.array(x1x2[:,0])\n",
    "x2 = np.array(x1x2[:,1])\n",
    "np.corrcoef(x1,x2)"
   ]
  },
  {
   "cell_type": "markdown",
   "metadata": {},
   "source": [
    "Ответ: $r_{x_1x_2} = 0.42220159,$"
   ]
  },
  {
   "cell_type": "markdown",
   "metadata": {},
   "source": [
    "Сгененрируем массив $y$ , $y = 0$, если объект принадлежит первому классу,и $y = 1$,если объект принадлежит второму классу. $Pr(y = 0) = Pr(y = 1) = 1/2$"
   ]
  },
  {
   "cell_type": "code",
   "execution_count": 27,
   "metadata": {},
   "outputs": [
    {
     "data": {
      "text/plain": [
       "array([0, 0, 0, 0, 0, 0, 0, 0, 0, 0, 0, 0, 0, 0, 0, 0, 0, 0, 0, 0, 0, 0, 0,\n",
       "       0, 0, 0, 0, 0, 0, 0, 0, 0, 0, 0, 0, 0, 0, 0, 0, 0, 0, 0, 0, 0, 0, 0,\n",
       "       0, 0, 0, 0, 0, 0, 0, 0, 0, 0, 0, 0, 0, 0, 0, 0, 0, 0, 0, 0, 0, 0, 0,\n",
       "       0, 0, 0, 0, 0, 0, 0, 0, 0, 0, 0, 0, 0, 0, 0, 0, 0, 0, 0, 0, 0, 0, 0,\n",
       "       0, 0, 0, 0, 0, 0, 0, 0, 0, 0, 0, 0, 0, 0, 0, 0, 0, 0, 0, 0, 0, 0, 0,\n",
       "       0, 0, 0, 0, 0, 0, 0, 0, 0, 0, 0, 0, 0, 0, 0, 0, 0, 0, 0, 0, 0, 0, 0,\n",
       "       0, 0, 0, 0, 0, 0, 0, 0, 0, 0, 0, 0, 0, 0, 0, 0, 0, 0, 0, 0, 0, 0, 0,\n",
       "       0, 0, 0, 0, 0, 0, 0, 0, 0, 0, 0, 0, 0, 0, 0, 0, 0, 0, 0, 0, 0, 0, 0,\n",
       "       0, 0, 0, 0, 0, 0, 0, 0, 0, 0, 0, 0, 0, 0, 0, 0, 0, 0, 0, 0, 0, 0, 0,\n",
       "       0, 0, 0, 0, 0, 0, 0, 0, 0, 0, 0, 0, 0, 0, 0, 0, 0, 0, 0, 0, 0, 0, 0,\n",
       "       0, 0, 0, 0, 0, 0, 0, 0, 0, 0, 0, 0, 0, 0, 0, 0, 0, 0, 0, 0, 0, 0, 0,\n",
       "       0, 0, 0, 0, 0, 0, 0, 0, 0, 0, 0, 0, 0, 0, 0, 0, 0, 0, 0, 0, 0, 0, 0,\n",
       "       0, 0, 0, 0, 0, 0, 0, 0, 0, 0, 0, 0, 0, 0, 0, 0, 0, 0, 0, 0, 0, 0, 0,\n",
       "       0, 1, 1, 1, 1, 1, 1, 1, 1, 1, 1, 1, 1, 1, 1, 1, 1, 1, 1, 1, 1, 1, 1,\n",
       "       1, 1, 1, 1, 1, 1, 1, 1, 1, 1, 1, 1, 1, 1, 1, 1, 1, 1, 1, 1, 1, 1, 1,\n",
       "       1, 1, 1, 1, 1, 1, 1, 1, 1, 1, 1, 1, 1, 1, 1, 1, 1, 1, 1, 1, 1, 1, 1,\n",
       "       1, 1, 1, 1, 1, 1, 1, 1, 1, 1, 1, 1, 1, 1, 1, 1, 1, 1, 1, 1, 1, 1, 1,\n",
       "       1, 1, 1, 1, 1, 1, 1, 1, 1, 1, 1, 1, 1, 1, 1, 1, 1, 1, 1, 1, 1, 1, 1,\n",
       "       1, 1, 1, 1, 1, 1, 1, 1, 1, 1, 1, 1, 1, 1, 1, 1, 1, 1, 1, 1, 1, 1, 1,\n",
       "       1, 1, 1, 1, 1, 1, 1, 1, 1, 1, 1, 1, 1, 1, 1, 1, 1, 1, 1, 1, 1, 1, 1,\n",
       "       1, 1, 1, 1, 1, 1, 1, 1, 1, 1, 1, 1, 1, 1, 1, 1, 1, 1, 1, 1, 1, 1, 1,\n",
       "       1, 1, 1, 1, 1, 1, 1, 1, 1, 1, 1, 1, 1, 1, 1, 1, 1, 1, 1, 1, 1, 1, 1,\n",
       "       1, 1, 1, 1, 1, 1, 1, 1, 1, 1, 1, 1, 1, 1, 1, 1, 1, 1, 1, 1, 1, 1, 1,\n",
       "       1, 1, 1, 1, 1, 1, 1, 1, 1, 1, 1, 1, 1, 1, 1, 1, 1, 1, 1, 1, 1, 1, 1,\n",
       "       1, 1, 1, 1, 1, 1, 1, 1, 1, 1, 1, 1, 1, 1, 1, 1, 1, 1, 1, 1, 1, 1, 1,\n",
       "       1, 1, 1, 1, 1, 1, 1, 1, 1, 1, 1, 1, 1, 1, 1, 1, 1, 1, 1, 1, 1, 1, 1,\n",
       "       1, 1])"
      ]
     },
     "execution_count": 27,
     "metadata": {},
     "output_type": "execute_result"
    }
   ],
   "source": [
    "y =np.array([0]*600) \n",
    "y[300:601] = 1\n",
    "y"
   ]
  },
  {
   "cell_type": "markdown",
   "metadata": {},
   "source": [
    "2) Построим наивный байесовский классификатор, используя только $x_1$"
   ]
  },
  {
   "cell_type": "code",
   "execution_count": 28,
   "metadata": {},
   "outputs": [
    {
     "data": {
      "text/plain": [
       "GaussianNB(priors=None)"
      ]
     },
     "execution_count": 28,
     "metadata": {},
     "output_type": "execute_result"
    }
   ],
   "source": [
    "model = GaussianNB()\n",
    "X=x1.reshape(-1,1)\n",
    "model.fit(X, y)"
   ]
  },
  {
   "cell_type": "markdown",
   "metadata": {},
   "source": [
    "Сгенерируем тестовую выборку:"
   ]
  },
  {
   "cell_type": "code",
   "execution_count": 29,
   "metadata": {},
   "outputs": [],
   "source": [
    "\n",
    "c1 = np.random.multivariate_normal([-1, -1],[[1,0],[0,1]],700)\n",
    "c2 = np.random.multivariate_normal([-1, -1],[[1,0],[0,1]],700)\n",
    "x1x2_test = np.vstack((c1,c2))\n",
    "\n",
    "x_test=x1x2_test[:,0].reshape(-1,1)\n",
    "y_test=np.array([0]*1400)\n",
    "y_test[700:1401] = 1\n"
   ]
  },
  {
   "cell_type": "markdown",
   "metadata": {},
   "source": [
    "Hайдем баесову ошибку:"
   ]
  },
  {
   "cell_type": "code",
   "execution_count": 30,
   "metadata": {},
   "outputs": [
    {
     "data": {
      "text/plain": [
       "17.195435361277184"
      ]
     },
     "execution_count": 30,
     "metadata": {},
     "output_type": "execute_result"
    }
   ],
   "source": [
    "from sklearn.metrics import log_loss\n",
    "y_predicted = model.predict(x_test)\n",
    "log_loss(y_test,y_predicted)"
   ]
  },
  {
   "cell_type": "markdown",
   "metadata": {},
   "source": [
    "Ответ $R(x) = 17.516$"
   ]
  },
  {
   "cell_type": "markdown",
   "metadata": {},
   "source": [
    "3) Построим наивный байесовский классификатор используя обе переменные $x_1 x_2$"
   ]
  },
  {
   "cell_type": "code",
   "execution_count": 31,
   "metadata": {},
   "outputs": [
    {
     "data": {
      "text/plain": [
       "GaussianNB(priors=None)"
      ]
     },
     "execution_count": 31,
     "metadata": {},
     "output_type": "execute_result"
    }
   ],
   "source": [
    "model = GaussianNB()\n",
    "X=x1x2\n",
    "model.fit(X, y)"
   ]
  },
  {
   "cell_type": "markdown",
   "metadata": {},
   "source": [
    "и найдем ошибку для этого случая:"
   ]
  },
  {
   "cell_type": "code",
   "execution_count": 32,
   "metadata": {},
   "outputs": [
    {
     "data": {
      "text/plain": [
       "17.688820751287079"
      ]
     },
     "execution_count": 32,
     "metadata": {},
     "output_type": "execute_result"
    }
   ],
   "source": [
    "x_test = x1x2_test\n",
    "y_predicted = model.predict(x_test)\n",
    "log_loss(y_test,y_predicted)"
   ]
  },
  {
   "cell_type": "markdown",
   "metadata": {},
   "source": [
    "Ответ $R(x) = 17.269$"
   ]
  },
  {
   "cell_type": "markdown",
   "metadata": {},
   "source": [
    "4)Ответ: нет"
   ]
  },
  {
   "cell_type": "code",
   "execution_count": null,
   "metadata": {},
   "outputs": [],
   "source": []
  }
 ],
 "metadata": {
  "kernelspec": {
   "display_name": "Python 2",
   "language": "python",
   "name": "python2"
  },
  "language_info": {
   "codemirror_mode": {
    "name": "ipython",
    "version": 2
   },
   "file_extension": ".py",
   "mimetype": "text/x-python",
   "name": "python",
   "nbconvert_exporter": "python",
   "pygments_lexer": "ipython2",
   "version": "2.7.12"
  }
 },
 "nbformat": 4,
 "nbformat_minor": 2
}
