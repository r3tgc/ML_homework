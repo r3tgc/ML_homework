{
 "cells": [
  {
   "cell_type": "markdown",
   "metadata": {},
   "source": [
    "# Задача 1\n",
    "Дана обучающая выборка\n",
    "<table>\n",
    "<tr><td>$x$</td><td>1</td><td>1</td><td>0</td><td>0</td><td>-1</td></tr>\n",
    "<tr><td>$y$</td><td>4</td><td>4</td><td>0</td><td>2</td><td>6</td></tr>\n",
    "</table>\n",
    "1) изобразить точки;\n",
    "\n",
    "2) методом наименьших квадратов построить модель вида $f(x) = \\beta_0+\\beta_1x+\\beta_2x^2$;построить график этой функции;\n",
    "\n",
    "3) построить модель того же вида методом ридж-регрессии с параметром регуляризации $\\lambda = 1$; построить график этой функции.\n",
    "\n",
    "Замечание: при ручных вычислениях по методу наименьших квадратов рекомендуется составить систему $X^TX\\beta = X^Ty$ и решить ее. Регуляризованная система: $(X^TX+\\lambda I)\\beta = X^Ty$, где $I$ - единичная матрица."
   ]
  },
  {
   "cell_type": "code",
   "execution_count": 61,
   "metadata": {},
   "outputs": [],
   "source": [
    "import numpy as np\n",
    "import matplotlib.pyplot as plt\n",
    "%matplotlib inline"
   ]
  },
  {
   "cell_type": "markdown",
   "metadata": {},
   "source": [
    "Обучающая выборка:"
   ]
  },
  {
   "cell_type": "code",
   "execution_count": 62,
   "metadata": {},
   "outputs": [],
   "source": [
    "x_train = [1, 1, 0, 0, -1]\n",
    "y_train = [4, 4, 0 ,2,  6]"
   ]
  },
  {
   "cell_type": "markdown",
   "metadata": {},
   "source": [
    "1) Изображение точек на плоскости $xy$"
   ]
  },
  {
   "cell_type": "code",
   "execution_count": 63,
   "metadata": {},
   "outputs": [
    {
     "data": {
      "image/png": "[encoded data removed]",
      "text/plain": [
       "<matplotlib.figure.Figure at 0x7fded50ff510>"
      ]
     },
     "metadata": {},
     "output_type": "display_data"
    }
   ],
   "source": [
    "plt.plot(x_train,y_train,color='blue')\n",
    "plt.plot(x_train,y_train,'*',color='red')\n",
    "plt.xlabel('X axis')\n",
    "plt.ylabel('Y axis')\n",
    "plt.grid()"
   ]
  },
  {
   "cell_type": "markdown",
   "metadata": {},
   "source": [
    "2) Построим модель вида $f(x) = β_0+β_1x+β_2x^2$ методом МНК."
   ]
  },
  {
   "cell_type": "code",
   "execution_count": 64,
   "metadata": {},
   "outputs": [],
   "source": [
    "f = lambda x: [1, x, x*x]\n",
    "X = np.array(map(f,x_train))\n",
    "y = np.array(y_train).transpose()#column\n"
   ]
  },
  {
   "cell_type": "markdown",
   "metadata": {},
   "source": [
    "Получили систему линейных уравнений $X\\beta = y$. Чтобы найти $\\beta$ умножим обе части на $X^T$ слева."
   ]
  },
  {
   "cell_type": "code",
   "execution_count": 65,
   "metadata": {},
   "outputs": [
    {
     "data": {
      "text/plain": [
       "array([[ 1,  1,  1,  1,  1],\n",
       "       [ 1,  1,  0,  0, -1],\n",
       "       [ 1,  1,  0,  0,  1]])"
      ]
     },
     "execution_count": 65,
     "metadata": {},
     "output_type": "execute_result"
    }
   ],
   "source": [
    "Xtr = X.transpose()\n",
    "Xtr"
   ]
  },
  {
   "cell_type": "code",
   "execution_count": 66,
   "metadata": {},
   "outputs": [],
   "source": [
    "X = np.dot(Xtr,X)\n",
    "y = np.dot(Xtr,y)"
   ]
  },
  {
   "cell_type": "markdown",
   "metadata": {},
   "source": [
    "Решим полученную систему:"
   ]
  },
  {
   "cell_type": "code",
   "execution_count": 67,
   "metadata": {},
   "outputs": [
    {
     "data": {
      "text/plain": [
       "array([ 1., -1.,  4.])"
      ]
     },
     "execution_count": 67,
     "metadata": {},
     "output_type": "execute_result"
    }
   ],
   "source": [
    "beta = np.linalg.solve(X,y)\n",
    "beta"
   ]
  },
  {
   "cell_type": "code",
   "execution_count": 68,
   "metadata": {},
   "outputs": [
    {
     "data": {
      "text/plain": [
       "[[4.0], [4.0], [1.0], [1.0], [6.0]]"
      ]
     },
     "execution_count": 68,
     "metadata": {},
     "output_type": "execute_result"
    }
   ],
   "source": [
    "f = lambda x: [beta[0]+beta[1]*x+beta[2]*x*x]\n",
    "y = map(f,x_train) \n",
    "y"
   ]
  },
  {
   "cell_type": "markdown",
   "metadata": {},
   "source": [
    "Построим  график полученной модели:"
   ]
  },
  {
   "cell_type": "code",
   "execution_count": 69,
   "metadata": {},
   "outputs": [],
   "source": [
    "x_points1 = np.linspace(-1,1,30)\n",
    "y_points1 = map(f,x_points1)"
   ]
  },
  {
   "cell_type": "code",
   "execution_count": 70,
   "metadata": {},
   "outputs": [
    {
     "data": {
      "image/png": "[encoded data removed]",
      "text/plain": [
       "<matplotlib.figure.Figure at 0x7fdecb578690>"
      ]
     },
     "metadata": {},
     "output_type": "display_data"
    }
   ],
   "source": [
    "plt.plot(x_train,y_train,'*',color='red')\n",
    "plt.plot(x_points1,y_points1,color='blue')\n",
    "plt.grid()"
   ]
  },
  {
   "cell_type": "markdown",
   "metadata": {},
   "source": [
    "3) Построим модель $f(x) = β_0+β_1x+β_2x^2$ методом ридж-регрессии"
   ]
  },
  {
   "cell_type": "code",
   "execution_count": 71,
   "metadata": {},
   "outputs": [],
   "source": [
    "x_train = [1, 1, 0, 0, -1]\n",
    "y_train = [4, 4, 0 ,2,  6]\n",
    "l = 1\n"
   ]
  },
  {
   "cell_type": "code",
   "execution_count": 72,
   "metadata": {},
   "outputs": [],
   "source": [
    "f = lambda x: [x**0, x**1, x**2]\n",
    "X = np.array(map(f,x_train))\n",
    "y = np.array(y_train).transpose()#column\n",
    "  "
   ]
  },
  {
   "cell_type": "markdown",
   "metadata": {},
   "source": [
    "Получили систему линейных уравнений $X\\beta = y$. Умножим обе части слева на $X^T$: "
   ]
  },
  {
   "cell_type": "code",
   "execution_count": 73,
   "metadata": {},
   "outputs": [],
   "source": [
    "Xtr = X.transpose()\n",
    "X = np.dot(Xtr,X)\n",
    "y = np.dot(Xtr,y)\n"
   ]
  },
  {
   "cell_type": "markdown",
   "metadata": {},
   "source": [
    "Регуляризуем систему с параметром $\\lambda = 1$:"
   ]
  },
  {
   "cell_type": "code",
   "execution_count": 74,
   "metadata": {},
   "outputs": [
    {
     "data": {
      "text/plain": [
       "array([[6, 1, 3],\n",
       "       [1, 4, 1],\n",
       "       [3, 1, 4]])"
      ]
     },
     "execution_count": 74,
     "metadata": {},
     "output_type": "execute_result"
    }
   ],
   "source": [
    "for i in xrange(len(X[:])):\n",
    "    X[i,i] = X[i,i]+l\n",
    "X  "
   ]
  },
  {
   "cell_type": "markdown",
   "metadata": {},
   "source": [
    "Решим регуляризованную систему:"
   ]
  },
  {
   "cell_type": "code",
   "execution_count": 75,
   "metadata": {},
   "outputs": [
    {
     "data": {
      "text/plain": [
       "array([ 1.5, -0.5,  2.5])"
      ]
     },
     "execution_count": 75,
     "metadata": {},
     "output_type": "execute_result"
    }
   ],
   "source": [
    "beta = np.linalg.solve(X,y)\n",
    "beta"
   ]
  },
  {
   "cell_type": "markdown",
   "metadata": {},
   "source": [
    "Построим график полученной модели."
   ]
  },
  {
   "cell_type": "code",
   "execution_count": 76,
   "metadata": {},
   "outputs": [
    {
     "data": {
      "image/png": "[encoded data removed]",
      "text/plain": [
       "<matplotlib.figure.Figure at 0x7fded4f23610>"
      ]
     },
     "metadata": {},
     "output_type": "display_data"
    }
   ],
   "source": [
    "f = lambda x: [beta[0]+beta[1]*x+beta[2]*x*x]\n",
    "x_points2 = np.linspace(-1,1,30)\n",
    "y_points2 = map(f,x_points2)\n",
    "import matplotlib.patches as mpatches\n",
    "plt.plot(x_train,y_train,'*',color='red')\n",
    "plt.plot(x_points1,y_points1,color='blue')\n",
    "plt.plot(x_points2,y_points2,color='green')\n",
    "plt.grid()\n",
    "patch_blue = mpatches.Patch(color='blue', label='OLS')\n",
    "patch_green = mpatches.Patch(color='green', label='Ridge regression')\n",
    "plt.legend(handles=[patch_blue,patch_green])\n",
    "plt.show()"
   ]
  },
  {
   "cell_type": "markdown",
   "metadata": {},
   "source": [
    "# Задача 14\n",
    "Дана обучающая выборка \n",
    "<table>\n",
    "    <tr>\n",
    "        <td>$x_1$</td>\n",
    "        <td>0</td>\n",
    "        <td>0</td>\n",
    "        <td>1</td>\n",
    "        <td>1</td>\n",
    "        <td>0</td>\n",
    "        <td>0</td>\n",
    "        <td>1</td>\n",
    "        <td>1</td>\n",
    "        <td>1</td>\n",
    "        <td>0</td>\n",
    "    </tr>\n",
    "    <tr>\n",
    "        <td>$x_2$</td>\n",
    "        <td>0</td>\n",
    "        <td>1</td>\n",
    "        <td>0</td>\n",
    "        <td>1</td>\n",
    "        <td>1</td>\n",
    "        <td>1</td>\n",
    "        <td>1</td>\n",
    "        <td>1</td>\n",
    "        <td>1</td>\n",
    "        <td>1</td>\n",
    "    </tr>\n",
    "    <tr>\n",
    "        <td>$y$</td>\n",
    "        <td>0</td>\n",
    "        <td>0</td>\n",
    "        <td>0</td>\n",
    "        <td>0</td>\n",
    "        <td>0</td>\n",
    "        <td>1</td>\n",
    "        <td>1</td>\n",
    "        <td>1</td>\n",
    "        <td>1</td>\n",
    "        <td>1</td>\n",
    "    </tr>\n",
    "</table>\n",
    "\n",
    "С помощью наивного байесова классификатора оценить вероятности \n",
    "$Pr(Y = 0 | X_1 = 1, X_2 = 1)$; $Pr(Y = 1 | X_1 = 1, X_2 = 1)$"
   ]
  },
  {
   "cell_type": "code",
   "execution_count": 77,
   "metadata": {},
   "outputs": [],
   "source": [
    "x1 = np.array([0, 0, 1, 1, 0, 0, 1, 1, 1, 0])\n",
    "x2 = np.array([0, 1, 0, 1, 1, 1, 1, 1, 1, 1])\n",
    "y  = np.array([0, 0, 0, 0, 0, 1, 1, 1, 1, 1])\n"
   ]
  },
  {
   "cell_type": "markdown",
   "metadata": {},
   "source": [
    "По формуле байеса"
   ]
  },
  {
   "cell_type": "markdown",
   "metadata": {},
   "source": [
    "Найдем априорные вероятности $Pr(y=0)$ и $Pr(y=1)$:"
   ]
  },
  {
   "cell_type": "code",
   "execution_count": 78,
   "metadata": {},
   "outputs": [
    {
     "data": {
      "text/plain": [
       "(0.5, 0.5)"
      ]
     },
     "execution_count": 78,
     "metadata": {},
     "output_type": "execute_result"
    }
   ],
   "source": [
    "Py_eq_0 = float(len(np.where(y == 0)[0]))/len(y)\n",
    "Py_eq_1 = float(len(np.where(y == 1)[0]))/len(y)\n",
    "Py_eq_0,Py_eq_1"
   ]
  },
  {
   "cell_type": "markdown",
   "metadata": {},
   "source": [
    "Найдем маргинальные апостериорные вероятности:\n",
    "$Pr(x_1 = 1| y = 0)$,$Pr(x_2 = 1| y = 0)$"
   ]
  },
  {
   "cell_type": "code",
   "execution_count": 79,
   "metadata": {},
   "outputs": [
    {
     "data": {
      "text/plain": [
       "(0.6, 0.4)"
      ]
     },
     "execution_count": 79,
     "metadata": {},
     "output_type": "execute_result"
    }
   ],
   "source": [
    "Px1_eq1_if_y_eq0 = float(len(np.where((x1 == 1)&(y == 0))[0]))/len(np.where(y == 0)[0])\n",
    "Px2_eq1_if_y_eq0 = float(len(np.where((x2 == 1)&(y == 0))[0]))/len(np.where(y == 0)[0])\n",
    "Px2_eq1_if_y_eq0,Px1_eq1_if_y_eq0\n"
   ]
  },
  {
   "cell_type": "markdown",
   "metadata": {},
   "source": [
    "Найдем $Pr(x_1 = 1)$ и $Pr(x_2 = 1)$"
   ]
  },
  {
   "cell_type": "code",
   "execution_count": 80,
   "metadata": {},
   "outputs": [],
   "source": [
    "Px1_eq1 = float(len(np.where(x1 == 1)[0]))/len(x1)\n",
    "Px2_eq1 = float(len(np.where(x2 == 1)[0]))/len(x2)\n",
    "\n"
   ]
  },
  {
   "cell_type": "markdown",
   "metadata": {},
   "source": [
    "Найдем апостериорные вероятности по формуле Байеса:"
   ]
  },
  {
   "cell_type": "code",
   "execution_count": 81,
   "metadata": {},
   "outputs": [
    {
     "data": {
      "text/plain": [
       "(0.0923076923076923, 0.0923076923076923)"
      ]
     },
     "execution_count": 81,
     "metadata": {},
     "output_type": "execute_result"
    }
   ],
   "source": [
    "Py_eq0_if_x1_eq1_x2_eq1 = Px1_eq1_if_y_eq0*Px2_eq1_if_y_eq0*Py_eq_0/(Px1_eq1+Px2_eq1)\n",
    "Py_eq1_if_x1_eq1_x2_eq1 = Px1_eq1_if_y_eq0*Px2_eq1_if_y_eq0*Py_eq_1/(Px1_eq1+Px2_eq1)\n",
    "Py_eq0_if_x1_eq1_x2_eq1,Py_eq1_if_x1_eq1_x2_eq1"
   ]
  },
  {
   "cell_type": "markdown",
   "metadata": {},
   "source": [
    "Ответ:$Pr(y = 0|x_1 = 1,x_2 = 1) = 0.0923$ $Pr(y = 1|x_1 = 1,x_2 = 1) = 0.0923$ "
   ]
  },
  {
   "cell_type": "markdown",
   "metadata": {},
   "source": [
    "# Задача 29\n",
    "Может ли использование коррелированных переменных улучшить качество предсказания? Рассмотрим задачу классификации с двумя классами. Пусть пространство признаков двумерное. Объекты каждого класса имеют нормальное распределение с математическим ожиданием (-1,-1) и (1,1) соответственно и единичной матрицей ковариации каждый. Априорные вероятности классов равны $1/2$.\n",
    "\n",
    "1) Вычислить коэффициент корреляции для переменных $x_1$, $x_2$.\n",
    "\n",
    "2) Найти байесов классификатор и вычислить байесову ошибку для усеченной задачи,рассматривая только одну переменную $x_1$.\n",
    "\n",
    "3) Найти байесов классификатор и вычислить байесову ошибку для исходной задачи.\n",
    "\n",
    "4) Приводит ли использование второй переменной к уменьшению ошибки?"
   ]
  },
  {
   "cell_type": "code",
   "execution_count": 82,
   "metadata": {},
   "outputs": [],
   "source": [
    "from sklearn.naive_bayes import GaussianNB"
   ]
  },
  {
   "cell_type": "markdown",
   "metadata": {},
   "source": [
    "Сгенерируем выборки для первого и второго классов:"
   ]
  },
  {
   "cell_type": "code",
   "execution_count": 83,
   "metadata": {},
   "outputs": [
    {
     "data": {
      "text/plain": [
       "array([[-0.80313976, -1.32000579],\n",
       "       [-1.28962151, -1.10301898],\n",
       "       [ 0.92530788,  0.35624659],\n",
       "       [-0.77541581, -1.70397108],\n",
       "       [-1.62562362, -0.87594169],\n",
       "       [ 0.67044586, -1.19451478],\n",
       "       [-1.07809707, -0.13701086],\n",
       "       [-0.65812042, -0.62070403],\n",
       "       [-1.18689853, -1.86951685],\n",
       "       [ 0.4024716 , -0.40642466],\n",
       "       [-0.89943967, -0.32762134],\n",
       "       [-2.79613943, -0.41377846],\n",
       "       [ 0.07121255, -0.42721043],\n",
       "       [-2.65084723, -1.9828343 ],\n",
       "       [-1.3207654 , -1.25458882],\n",
       "       [-0.13319392, -0.61093083],\n",
       "       [-1.18403029, -0.70492549],\n",
       "       [-0.72249895, -0.67977738],\n",
       "       [ 0.53920282, -2.29171535],\n",
       "       [ 0.83210958, -0.60682876],\n",
       "       [ 1.28303774, -2.02852064],\n",
       "       [-0.3446765 , -0.86796817],\n",
       "       [-2.97956209, -2.50299102],\n",
       "       [-2.55407141, -0.15968829],\n",
       "       [-2.13793578, -1.56345662],\n",
       "       [-1.67559627,  0.10264823],\n",
       "       [-2.5847444 ,  0.57553132],\n",
       "       [ 1.43254008,  0.91308641],\n",
       "       [-2.69199627, -1.3438455 ],\n",
       "       [-0.40314684,  0.03245799]])"
      ]
     },
     "execution_count": 83,
     "metadata": {},
     "output_type": "execute_result"
    }
   ],
   "source": [
    "c1 = np.random.multivariate_normal([-1, -1],[[1,0],[0,1]],30) #y = 0\n",
    "c1\n",
    "\n"
   ]
  },
  {
   "cell_type": "code",
   "execution_count": 84,
   "metadata": {},
   "outputs": [
    {
     "data": {
      "text/plain": [
       "array([[ 0.1456388 ,  2.90359099],\n",
       "       [ 3.45788559,  0.69024795],\n",
       "       [ 0.36909556,  0.02219796],\n",
       "       [ 0.06425819,  1.91040489],\n",
       "       [ 1.29909414,  3.19648303],\n",
       "       [ 0.72324264, -0.46224641],\n",
       "       [ 3.16568671,  1.77141889],\n",
       "       [ 0.52246775,  0.5972181 ],\n",
       "       [ 1.81914788,  2.14857236],\n",
       "       [ 1.58071676,  1.85620655],\n",
       "       [ 1.26154522,  1.03577803],\n",
       "       [ 1.68898734,  1.20978243],\n",
       "       [ 0.85391913, -0.01937131],\n",
       "       [ 2.32300815,  1.73154618],\n",
       "       [ 1.08363016,  0.27980447],\n",
       "       [ 0.82580621,  0.1426877 ],\n",
       "       [ 1.63272035,  0.9992853 ],\n",
       "       [ 1.08885874,  0.50942069],\n",
       "       [ 1.81596353,  3.7194351 ],\n",
       "       [ 0.86730634,  2.8502604 ],\n",
       "       [ 0.57078671,  0.24057497],\n",
       "       [ 0.47178775,  2.37752253],\n",
       "       [ 2.06859785, -0.3850125 ],\n",
       "       [ 1.29398734,  0.0952081 ],\n",
       "       [-0.71727845,  1.12066196],\n",
       "       [ 0.38497325,  1.16198519],\n",
       "       [ 2.01069302, -1.11964067],\n",
       "       [ 0.84695206,  1.50655659],\n",
       "       [ 0.67119517,  1.05505703],\n",
       "       [ 1.07679888,  2.33079479]])"
      ]
     },
     "execution_count": 84,
     "metadata": {},
     "output_type": "execute_result"
    }
   ],
   "source": [
    "c2 = np.random.multivariate_normal([1, 1],[[1,0],[0,1]],30)#y = 1\n",
    "c2\n"
   ]
  },
  {
   "cell_type": "code",
   "execution_count": 85,
   "metadata": {},
   "outputs": [
    {
     "data": {
      "text/plain": [
       "<matplotlib.text.Text at 0x7fdecbda4510>"
      ]
     },
     "execution_count": 85,
     "metadata": {},
     "output_type": "execute_result"
    },
    {
     "data": {
      "image/png": "[encoded data removed]",
      "text/plain": [
       "<matplotlib.figure.Figure at 0x7fdecbc19690>"
      ]
     },
     "metadata": {},
     "output_type": "display_data"
    }
   ],
   "source": [
    "plt.scatter(c1[:,0],c1[:,1],color='lightblue')\n",
    "plt.scatter(c2[:,0],c2[:,1],color='pink')\n",
    "plt.xlabel('x1 axis')\n",
    "plt.ylabel('x2 axis')\n",
    "#plt.legend('class 0','class 1')"
   ]
  },
  {
   "cell_type": "markdown",
   "metadata": {},
   "source": [
    "1) Составим $x_1$ и $x_2$ и найдем коэффициент корреляции между ними:"
   ]
  },
  {
   "cell_type": "code",
   "execution_count": 86,
   "metadata": {},
   "outputs": [
    {
     "data": {
      "text/plain": [
       "array([[ 1.        ,  0.52548924],\n",
       "       [ 0.52548924,  1.        ]])"
      ]
     },
     "execution_count": 86,
     "metadata": {},
     "output_type": "execute_result"
    }
   ],
   "source": [
    "x1x2 = np.vstack((c1,c2))\n",
    "x1 = np.array(x1x2[:,0])\n",
    "x2 = np.array(x1x2[:,1])\n",
    "np.corrcoef(x1,x2)"
   ]
  },
  {
   "cell_type": "markdown",
   "metadata": {},
   "source": [
    "Ответ: $r_{x_1x_2} = 0.52548924,$"
   ]
  },
  {
   "cell_type": "markdown",
   "metadata": {},
   "source": [
    "Сгененрируем массив $y$ , $y = 0$, если объект принадлежит первому классу,и $y = 1$,если объект принадлежит второму классу. $Pr(y = 0) = Pr(y = 1) = 1/2$"
   ]
  },
  {
   "cell_type": "code",
   "execution_count": 87,
   "metadata": {},
   "outputs": [
    {
     "data": {
      "text/plain": [
       "array([0, 0, 0, 0, 0, 0, 0, 0, 0, 0, 0, 0, 0, 0, 0, 0, 0, 0, 0, 0, 0, 0, 0,\n",
       "       0, 0, 0, 0, 0, 0, 0, 1, 1, 1, 1, 1, 1, 1, 1, 1, 1, 1, 1, 1, 1, 1, 1,\n",
       "       1, 1, 1, 1, 1, 1, 1, 1, 1, 1, 1, 1, 1, 1])"
      ]
     },
     "execution_count": 87,
     "metadata": {},
     "output_type": "execute_result"
    }
   ],
   "source": [
    "y =np.array([0]*60) \n",
    "y[30:61] = 1\n",
    "y"
   ]
  },
  {
   "cell_type": "markdown",
   "metadata": {},
   "source": [
    "2) Построим наивный байесовский классификатор, используя только $x_1$"
   ]
  },
  {
   "cell_type": "code",
   "execution_count": 88,
   "metadata": {},
   "outputs": [
    {
     "data": {
      "text/plain": [
       "GaussianNB(priors=None)"
      ]
     },
     "execution_count": 88,
     "metadata": {},
     "output_type": "execute_result"
    }
   ],
   "source": [
    "model = GaussianNB()\n",
    "X=x1.reshape(-1,1)\n",
    "model.fit(X, y)"
   ]
  },
  {
   "cell_type": "markdown",
   "metadata": {},
   "source": [
    "Сгенерируем тестовую выборку:"
   ]
  },
  {
   "cell_type": "code",
   "execution_count": 89,
   "metadata": {},
   "outputs": [],
   "source": [
    "\n",
    "c1 = np.random.multivariate_normal([-1, -1],[[1,0],[0,1]],70)\n",
    "c2 = np.random.multivariate_normal([-1, -1],[[1,0],[0,1]],70)\n",
    "x1x2_test = np.vstack((c1,c2))\n",
    "\n",
    "x_test=x1x2_test[:,0].reshape(-1,1)\n",
    "y_test=np.array([0]*140)\n",
    "y_test[70:141] = 1\n"
   ]
  },
  {
   "cell_type": "markdown",
   "metadata": {},
   "source": [
    "Hайдем баесову ошибку:"
   ]
  },
  {
   "cell_type": "code",
   "execution_count": 90,
   "metadata": {},
   "outputs": [
    {
     "data": {
      "text/plain": [
       "17.022722631648918"
      ]
     },
     "execution_count": 90,
     "metadata": {},
     "output_type": "execute_result"
    }
   ],
   "source": [
    "from sklearn.metrics import log_loss\n",
    "y_predicted = model.predict(x_test)\n",
    "log_loss(y_test,y_predicted)"
   ]
  },
  {
   "cell_type": "markdown",
   "metadata": {},
   "source": [
    "Ответ $R(x) = 17.02$"
   ]
  },
  {
   "cell_type": "markdown",
   "metadata": {},
   "source": [
    "3) Построим наивный байесовский классификатор используя обе переменные $x_1 x_2$"
   ]
  },
  {
   "cell_type": "code",
   "execution_count": 91,
   "metadata": {},
   "outputs": [
    {
     "data": {
      "text/plain": [
       "GaussianNB(priors=None)"
      ]
     },
     "execution_count": 91,
     "metadata": {},
     "output_type": "execute_result"
    }
   ],
   "source": [
    "model = GaussianNB()\n",
    "X=x1x2\n",
    "model.fit(X, y)\n",
    "\n"
   ]
  },
  {
   "cell_type": "markdown",
   "metadata": {},
   "source": [
    "и найдем ошибку для этого случая:"
   ]
  },
  {
   "cell_type": "code",
   "execution_count": 92,
   "metadata": {},
   "outputs": [
    {
     "data": {
      "text/plain": [
       "18.00953339154022"
      ]
     },
     "execution_count": 92,
     "metadata": {},
     "output_type": "execute_result"
    }
   ],
   "source": [
    "x_test = x1x2_test\n",
    "y_predicted = model.predict(x_test)\n",
    "log_loss(y_test,y_predicted)"
   ]
  },
  {
   "cell_type": "markdown",
   "metadata": {},
   "source": [
    "Ответ $R(x) = 18.01$"
   ]
  },
  {
   "cell_type": "markdown",
   "metadata": {},
   "source": [
    "4)Ответ: нет"
   ]
  },
  {
   "cell_type": "code",
   "execution_count": null,
   "metadata": {},
   "outputs": [],
   "source": []
  }
 ],
 "metadata": {
  "kernelspec": {
   "display_name": "Python 2",
   "language": "python",
   "name": "python2"
  },
  "language_info": {
   "codemirror_mode": {
    "name": "ipython",
    "version": 2
   },
   "file_extension": ".py",
   "mimetype": "text/x-python",
   "name": "python",
   "nbconvert_exporter": "python",
   "pygments_lexer": "ipython2",
   "version": "2.7.12"
  }
 },
 "nbformat": 4,
 "nbformat_minor": 2
}
